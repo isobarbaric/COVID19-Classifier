{
 "cells": [
  {
   "cell_type": "code",
   "execution_count": 1,
   "metadata": {},
   "outputs": [],
   "source": [
    "import pandas as pd"
   ]
  },
  {
   "cell_type": "markdown",
   "metadata": {},
   "source": [
    "import dataframe from pickle file"
   ]
  },
  {
   "cell_type": "code",
   "execution_count": 2,
   "metadata": {},
   "outputs": [],
   "source": [
    "df = pd.read_pickle('data/model/data.pkl')"
   ]
  },
  {
   "cell_type": "code",
   "execution_count": 3,
   "metadata": {},
   "outputs": [
    {
     "data": {
      "text/html": [
       "<div>\n",
       "<style scoped>\n",
       "    .dataframe tbody tr th:only-of-type {\n",
       "        vertical-align: middle;\n",
       "    }\n",
       "\n",
       "    .dataframe tbody tr th {\n",
       "        vertical-align: top;\n",
       "    }\n",
       "\n",
       "    .dataframe thead th {\n",
       "        text-align: right;\n",
       "    }\n",
       "</style>\n",
       "<table border=\"1\" class=\"dataframe\">\n",
       "  <thead>\n",
       "    <tr style=\"text-align: right;\">\n",
       "      <th></th>\n",
       "      <th>text</th>\n",
       "      <th>article_type</th>\n",
       "      <th>embedding_vector</th>\n",
       "    </tr>\n",
       "  </thead>\n",
       "  <tbody>\n",
       "    <tr>\n",
       "      <th>0</th>\n",
       "      <td>Summary of data publicly reported by the Cente...</td>\n",
       "      <td>1</td>\n",
       "      <td>[0.005152532, 0.0041832207, 0.0013592248, 0.02...</td>\n",
       "    </tr>\n",
       "    <tr>\n",
       "      <th>1</th>\n",
       "      <td>On May 11, 2023, the United States ended the P...</td>\n",
       "      <td>1</td>\n",
       "      <td>[-0.004177533, -0.009758532, -0.01115001, 0.03...</td>\n",
       "    </tr>\n",
       "    <tr>\n",
       "      <th>2</th>\n",
       "      <td>Our highly trained specialists are available 2...</td>\n",
       "      <td>1</td>\n",
       "      <td>[-0.011494388, -0.009370449, 0.008532594, 0.01...</td>\n",
       "    </tr>\n",
       "    <tr>\n",
       "      <th>3</th>\n",
       "      <td>Can we help you find more info? Start by selec...</td>\n",
       "      <td>1</td>\n",
       "      <td>[-0.0018576796, 0.028474232, -0.013181964, 0.0...</td>\n",
       "    </tr>\n",
       "    <tr>\n",
       "      <th>4</th>\n",
       "      <td>Research – Youth Vaping and Lung Health The Am...</td>\n",
       "      <td>1</td>\n",
       "      <td>[-0.01785805, 0.0006542458, 0.0037484693, 0.03...</td>\n",
       "    </tr>\n",
       "  </tbody>\n",
       "</table>\n",
       "</div>"
      ],
      "text/plain": [
       "                                                text  article_type  \\\n",
       "0  Summary of data publicly reported by the Cente...             1   \n",
       "1  On May 11, 2023, the United States ended the P...             1   \n",
       "2  Our highly trained specialists are available 2...             1   \n",
       "3  Can we help you find more info? Start by selec...             1   \n",
       "4  Research – Youth Vaping and Lung Health The Am...             1   \n",
       "\n",
       "                                    embedding_vector  \n",
       "0  [0.005152532, 0.0041832207, 0.0013592248, 0.02...  \n",
       "1  [-0.004177533, -0.009758532, -0.01115001, 0.03...  \n",
       "2  [-0.011494388, -0.009370449, 0.008532594, 0.01...  \n",
       "3  [-0.0018576796, 0.028474232, -0.013181964, 0.0...  \n",
       "4  [-0.01785805, 0.0006542458, 0.0037484693, 0.03...  "
      ]
     },
     "execution_count": 3,
     "metadata": {},
     "output_type": "execute_result"
    }
   ],
   "source": [
    "df.head()"
   ]
  },
  {
   "cell_type": "markdown",
   "metadata": {},
   "source": [
    "splitting the dataset into training data and test data"
   ]
  },
  {
   "cell_type": "code",
   "execution_count": 4,
   "metadata": {},
   "outputs": [],
   "source": [
    "X = df['embedding_vector'].values"
   ]
  },
  {
   "cell_type": "code",
   "execution_count": 5,
   "metadata": {},
   "outputs": [
    {
     "data": {
      "text/plain": [
       "array([array([ 0.00515253,  0.00418322,  0.00135922,  0.027955  , -0.00849864,\n",
       "              -0.00405339,  0.03941876, -0.02183702,  0.04576787,  0.00497942,\n",
       "              -0.00069394, -0.03106419,  0.00035598, -0.00051818, -0.03868088,\n",
       "               0.02967701, -0.01859109,  0.03316091, -0.01503784, -0.01721755,\n",
       "              -0.00106475,  0.0085257 , -0.0084051 ,  0.00519633, -0.00330625,\n",
       "              -0.02793389, -0.02444155,  0.03002346,  0.00346502, -0.00933107,\n",
       "              -0.0126805 , -0.04306875, -0.04114606, -0.02166898, -0.02264668,\n",
       "              -0.00078772,  0.01340858, -0.01125654, -0.00461787,  0.03447867,\n",
       "               0.02186399,  0.01053821,  0.01956919,  0.01394663, -0.0088659 ,\n",
       "              -0.03959558,  0.01566608,  0.02022678, -0.04267863, -0.0039938 ,\n",
       "               0.00487955, -0.01900684, -0.02790596, -0.01832016,  0.00255313,\n",
       "              -0.01701844, -0.02744398, -0.02458041, -0.01631015, -0.01149102,\n",
       "              -0.01453607,  0.00620428, -0.00633664, -0.01934637,  0.02799934,\n",
       "              -0.00326327, -0.02535331,  0.02506845,  0.0011877 ,  0.01782499,\n",
       "              -0.00079642, -0.00664934,  0.02287169,  0.02491751, -0.01711086,\n",
       "               0.00978007,  0.01847086,  0.001528  ,  0.0288795 ,  0.05567017,\n",
       "               0.00857355, -0.03478528, -0.0134627 ,  0.02796964, -0.0134625 ,\n",
       "              -0.00385702, -0.00915393,  0.00911876,  0.00593178,  0.01000426,\n",
       "               0.02780677,  0.00196785, -0.0277273 , -0.03862797, -0.01511283,\n",
       "              -0.01940159,  0.03941947,  0.00931869,  0.02158795,  0.0069542 ,\n",
       "               0.0172306 , -0.02316791, -0.02117669, -0.00689296, -0.017892  ,\n",
       "              -0.04444983, -0.02794896, -0.01071095,  0.02296544, -0.0101557 ,\n",
       "               0.01254455, -0.00988752, -0.00736975, -0.01066411,  0.01115745,\n",
       "               0.00957868,  0.00100667, -0.02122772,  0.04295599, -0.00552568,\n",
       "              -0.0228376 , -0.01582528, -0.03634619,  0.01796811,  0.03837836,\n",
       "               0.00974978,  0.01198994, -0.02583753,  0.01389058,  0.02095364,\n",
       "              -0.01134413, -0.04606013, -0.03061545, -0.02281483, -0.03919313,\n",
       "              -0.01149165,  0.01564148, -0.0029296 ,  0.01109233,  0.03132669,\n",
       "               0.01847847, -0.01781224, -0.02527327,  0.0301511 , -0.00133118,\n",
       "              -0.00835394,  0.02567744, -0.00029802, -0.03770561, -0.02828723,\n",
       "               0.05615447, -0.03221225, -0.01469366, -0.00429465,  0.01956388,\n",
       "              -0.0369205 , -0.00681343, -0.02597305, -0.00722221, -0.01068083,\n",
       "               0.00137995,  0.02228538,  0.02510318, -0.00169038, -0.02497411,\n",
       "              -0.02309161,  0.00441596, -0.02148419, -0.00523895, -0.00956239,\n",
       "              -0.01620299, -0.03186556, -0.00391605, -0.03223536,  0.01309871,\n",
       "              -0.02240862,  0.03134446, -0.01179371, -0.01514743,  0.0094748 ,\n",
       "              -0.03804183, -0.03375554, -0.0103085 , -0.00845294, -0.01479239,\n",
       "               0.00216397, -0.01775498, -0.00230834,  0.02211052,  0.03091631,\n",
       "               0.01173032, -0.02141216, -0.01534382, -0.02407434, -0.00872628,\n",
       "               0.02233713,  0.03190109, -0.01000901, -0.01539569, -0.02386104,\n",
       "              -0.00812308,  0.00393538,  0.00067564, -0.00869032, -0.0091416 ,\n",
       "              -0.02383356, -0.01317327, -0.01312075,  0.02127504, -0.01736275,\n",
       "              -0.00646053,  0.01438844, -0.0216528 ,  0.00718768, -0.04281899,\n",
       "               0.01441314,  0.01296991, -0.00743981, -0.00965686,  0.00128934,\n",
       "              -0.01348942,  0.00936738,  0.04834552, -0.01733351,  0.03619167,\n",
       "              -0.02777925,  0.01639873, -0.01749297,  0.01076508, -0.00668864,\n",
       "               0.01830063, -0.0041387 , -0.00099447,  0.0004175 , -0.02394456,\n",
       "              -0.00206413,  0.00695053, -0.01993415,  0.0248635 ,  0.00715765,\n",
       "               0.01652615, -0.01529371,  0.03200662, -0.04402396, -0.01220979,\n",
       "               0.02485704, -0.01634441,  0.03216502, -0.00536198, -0.01130719,\n",
       "               0.00677665, -0.00073707,  0.00663815,  0.0029751 ,  0.02528838,\n",
       "               0.01636329,  0.00923638,  0.02005371, -0.03308618, -0.01109383,\n",
       "               0.01388798,  0.00068695, -0.0265536 , -0.01635126,  0.03624446,\n",
       "               0.04668073, -0.01435449,  0.00111057, -0.03601898, -0.01060829,\n",
       "               0.02745841,  0.02055751,  0.01824651,  0.00077509,  0.03086739,\n",
       "              -0.02025122, -0.01586952, -0.03175363,  0.00648942, -0.01029774,\n",
       "              -0.00885405, -0.00848539,  0.01418403,  0.02111062, -0.00920257,\n",
       "              -0.01907925,  0.00496088,  0.02062759,  0.02281079,  0.0225908 ,\n",
       "              -0.01898491,  0.00724235, -0.00831861, -0.01327715,  0.0105025 ,\n",
       "              -0.00594035, -0.02084638, -0.00331461,  0.02185839, -0.00228528],\n",
       "             dtype=float32)                                                    ,\n",
       "       array([-0.00417753, -0.00975853, -0.01115001,  0.03081474, -0.01855846,\n",
       "              -0.00628758,  0.01957244, -0.02165425,  0.05759787,  0.00456027,\n",
       "              -0.01293776, -0.02599991,  0.01509417,  0.01576278, -0.04418416,\n",
       "               0.02872057, -0.01174033,  0.02768928, -0.00853836, -0.03186885,\n",
       "               0.01236007,  0.00184168, -0.01313682,  0.00187996, -0.00097996,\n",
       "              -0.00890033, -0.01800908,  0.02246002,  0.00506128,  0.00382424,\n",
       "              -0.00793139, -0.0340898 , -0.01804246, -0.02438509, -0.01230169,\n",
       "              -0.00683472,  0.01138957, -0.00760469,  0.01265901,  0.01685345,\n",
       "               0.02310088,  0.01011204,  0.01359676,  0.02512995, -0.02072252,\n",
       "              -0.04067791, -0.00802387,  0.0144474 , -0.02415113,  0.01516449,\n",
       "               0.02672796, -0.01816258, -0.02297234, -0.0114723 , -0.00272586,\n",
       "              -0.00611111, -0.03663635, -0.02024832,  0.00817788, -0.01813427,\n",
       "              -0.01923366,  0.01491059, -0.02025557, -0.01603779,  0.01038554,\n",
       "               0.00810796, -0.01918009,  0.03736041, -0.00412362,  0.00453619,\n",
       "               0.00057626, -0.0062573 ,  0.03519406,  0.01751099, -0.01510923,\n",
       "              -0.00335526,  0.02732865,  0.02316948,  0.01722145,  0.03910513,\n",
       "               0.0233378 , -0.02660767, -0.00518281,  0.00473023, -0.00101601,\n",
       "              -0.00328258, -0.03076593,  0.01737239, -0.00577403,  0.00535163,\n",
       "               0.04630774, -0.01308077, -0.02364646, -0.03552184, -0.0201135 ,\n",
       "              -0.02201396,  0.02488774,  0.01229972,  0.0208504 , -0.00763301,\n",
       "               0.01527269, -0.02128761, -0.00304039, -0.01126404, -0.01509663,\n",
       "              -0.0322335 , -0.03373173, -0.00984487,  0.01470494, -0.01935379,\n",
       "               0.00300371, -0.01274609, -0.01111941, -0.0089375 ,  0.01967741,\n",
       "               0.01107321,  0.00732077, -0.00397515,  0.04851411,  0.02414211,\n",
       "              -0.02987111, -0.00483418, -0.02849301,  0.02370118,  0.01189491,\n",
       "               0.01531818, -0.00823358, -0.02682626,  0.00194934,  0.02676094,\n",
       "               0.00499523, -0.04063338, -0.01988793, -0.01703968, -0.01461709,\n",
       "              -0.03031813,  0.01743639, -0.00577173, -0.00555083,  0.03103888,\n",
       "               0.02409902, -0.01177927, -0.01382799,  0.02810117,  0.00293795,\n",
       "               0.00235968,  0.00684623, -0.00904743, -0.02998577, -0.00597938,\n",
       "               0.05057202,  0.00474912, -0.03220761,  0.00461887,  0.01086372,\n",
       "              -0.0312122 , -0.00759825, -0.03557909, -0.02046501, -0.0183649 ,\n",
       "               0.00969042,  0.0102088 ,  0.01944672, -0.01742256, -0.01277863,\n",
       "               0.00517127,  0.02446632, -0.01642739,  0.01573622, -0.01824389,\n",
       "              -0.01529291, -0.01952333, -0.01729908, -0.03287431,  0.01455524,\n",
       "              -0.01700809,  0.03506373, -0.01534966, -0.0109494 ,  0.00206443,\n",
       "              -0.04441423, -0.02659826, -0.01006204, -0.01506988,  0.0008903 ,\n",
       "               0.00754887, -0.01780287,  0.02309766,  0.02008206,  0.03852281,\n",
       "               0.00942117, -0.02068188, -0.0107505 , -0.02035278, -0.02644158,\n",
       "               0.01013404,  0.03136035, -0.00617588, -0.01240153, -0.0247376 ,\n",
       "               0.00132081,  0.01758885, -0.00860209, -0.01878014, -0.00258292,\n",
       "              -0.00748112, -0.00687599, -0.01464184,  0.01804993, -0.0098034 ,\n",
       "               0.00145527,  0.01369981, -0.01995788,  0.0098805 , -0.04222066,\n",
       "               0.0169444 ,  0.02669351,  0.00341907, -0.02849442,  0.00654131,\n",
       "               0.00341983,  0.01598993,  0.01215861,  0.00037937,  0.0101007 ,\n",
       "              -0.0275323 ,  0.02856058,  0.00816275,  0.00875765,  0.00797496,\n",
       "               0.00434457,  0.00408569,  0.00329823, -0.00412581, -0.00552099,\n",
       "              -0.00319673, -0.00429308, -0.00988288,  0.01898038, -0.00755972,\n",
       "              -0.00539919, -0.01112458,  0.02085255, -0.04082734, -0.01400147,\n",
       "               0.02946619,  0.00345114,  0.02596835,  0.00395111, -0.02024262,\n",
       "              -0.00084917,  0.0062216 , -0.00401447, -0.00333897,  0.01362612,\n",
       "              -0.01599032,  0.01516644,  0.01266523, -0.01738574, -0.00657139,\n",
       "               0.01343485, -0.00152648, -0.01701195,  0.01071747,  0.02985222,\n",
       "               0.04390626, -0.01881356,  0.00025877, -0.03717777, -0.01506397,\n",
       "               0.03274344,  0.03523281,  0.02149164, -0.00336908,  0.02111713,\n",
       "              -0.01502628, -0.0155947 , -0.04075867, -0.00546896, -0.01542172,\n",
       "              -0.01913738, -0.00016991,  0.02831318,  0.03274567, -0.00446145,\n",
       "              -0.01879952, -0.02023614,  0.01157619,  0.02793614,  0.02378265,\n",
       "              -0.0114638 , -0.0001718 , -0.00961334, -0.00112995, -0.00334712,\n",
       "              -0.00494613, -0.01381307, -0.00965096,  0.00993078, -0.0095136 ],\n",
       "             dtype=float32)                                                    ,\n",
       "       array([-1.14943879e-02, -9.37044900e-03,  8.53259396e-03,  1.82466470e-02,\n",
       "              -1.51027385e-02,  2.70452611e-02,  2.53113955e-02, -1.54405441e-02,\n",
       "               3.45872268e-02, -3.06635257e-02, -9.09510441e-03, -1.71223544e-02,\n",
       "              -2.23364774e-03,  1.94276534e-02, -3.03411041e-03,  3.77351381e-02,\n",
       "               2.14305017e-02,  3.09952088e-02,  7.32359185e-04, -2.13183314e-02,\n",
       "               4.09631282e-02,  1.05743995e-02,  9.89356544e-03,  3.58962826e-02,\n",
       "              -2.22086124e-02,  5.82928536e-03, -3.71698998e-02,  2.49441117e-02,\n",
       "               4.26913658e-03, -3.84636596e-02,  7.93285295e-03, -3.40054072e-02,\n",
       "              -3.29171456e-02, -2.09616181e-02, -1.03793275e-02, -2.31210850e-02,\n",
       "               5.60133066e-03, -6.92679966e-03,  2.06117108e-02, -1.35702651e-03,\n",
       "              -7.39174057e-03,  1.69400275e-02, -1.59186590e-02,  2.86798412e-03,\n",
       "              -2.78573725e-02, -6.20115660e-02, -2.99862623e-02, -6.71902380e-04,\n",
       "              -1.75410155e-02,  1.64490771e-02, -7.59257050e-03, -1.15752947e-02,\n",
       "              -1.48240989e-02, -8.90708645e-04, -6.00948883e-03, -8.02821480e-03,\n",
       "              -3.63382623e-02, -1.88156415e-03,  1.07534288e-03, -1.27491932e-02,\n",
       "              -2.12182850e-02, -2.19931807e-02, -2.36362740e-02, -4.26324317e-03,\n",
       "              -4.79836902e-03,  1.55723887e-02, -4.81938459e-02,  1.47558302e-02,\n",
       "               1.59462504e-02,  2.17354633e-02,  2.14386545e-03, -2.51569338e-02,\n",
       "               2.19716709e-02, -1.07889380e-02, -1.63951572e-02, -3.23069878e-02,\n",
       "               3.59653160e-02,  2.25929879e-02,  2.19075363e-02,  4.65368740e-02,\n",
       "               3.22210905e-03, -4.23893798e-03,  1.80509444e-02,  1.36894323e-02,\n",
       "               3.08293244e-03, -1.15481140e-02, -5.58618978e-02,  6.98974996e-04,\n",
       "               1.66228525e-02,  1.04398848e-02,  4.85849828e-02, -2.30300892e-02,\n",
       "              -1.20938914e-02, -2.83851493e-02,  2.59364545e-02, -1.77274738e-02,\n",
       "               2.80569587e-02,  1.75818242e-02,  9.14136320e-03, -6.26539718e-03,\n",
       "              -2.94709718e-03, -2.05467809e-02,  5.58327977e-03,  1.28941061e-02,\n",
       "              -1.82522964e-02, -2.37795766e-02, -1.08322296e-02, -2.96742022e-02,\n",
       "               4.02091406e-02, -1.40902875e-02, -1.88038591e-02, -1.42705096e-02,\n",
       "              -6.39156392e-03, -1.00522153e-02,  2.43999958e-02,  1.96964946e-03,\n",
       "              -2.69848946e-03, -1.31511912e-02,  5.99168614e-02,  2.83188596e-02,\n",
       "              -2.83623412e-02,  2.01968057e-03, -2.67788861e-02,  4.25301231e-02,\n",
       "              -2.14673430e-02, -1.03409290e-02, -1.85759179e-02, -5.39006945e-03,\n",
       "               2.94308253e-02,  4.37300466e-02, -1.50581226e-02, -7.65413344e-02,\n",
       "              -2.65333354e-02,  6.42594695e-03, -5.30072767e-03, -2.70126443e-02,\n",
       "               8.60578101e-03, -1.29907532e-03,  7.24384736e-04,  2.63399873e-02,\n",
       "               2.78070476e-02, -1.55998231e-03, -1.35618448e-02,  3.65694822e-03,\n",
       "               1.84708480e-02,  7.93623549e-05,  2.74476456e-03, -1.74598768e-02,\n",
       "              -3.47877294e-02, -1.18785696e-02,  3.56649198e-02,  2.89000068e-02,\n",
       "              -2.95650065e-02,  1.98566597e-02,  2.19289493e-02, -3.03194784e-02,\n",
       "              -7.45735643e-03, -2.73244586e-02, -3.84277143e-02, -3.42026427e-02,\n",
       "               6.88023400e-03,  3.41162607e-02,  1.08700050e-02,  1.73291173e-02,\n",
       "              -1.41763836e-02, -1.72071215e-02,  9.03975219e-03, -3.82676795e-02,\n",
       "               1.88583862e-02, -2.68603005e-02,  8.91579688e-03, -8.79543088e-03,\n",
       "               5.13836276e-03, -5.67003824e-02,  5.15947817e-03, -2.93860454e-02,\n",
       "               1.46063576e-02,  2.25847284e-03, -3.49080637e-02,  9.64589603e-03,\n",
       "              -3.34706903e-02, -3.89262289e-02,  1.32016558e-03, -2.75250599e-02,\n",
       "              -1.26882782e-02, -7.53294677e-03, -3.74081805e-02,  2.30511297e-02,\n",
       "               7.87024386e-03,  8.16827826e-03, -4.33720462e-03, -9.88835189e-03,\n",
       "               1.67591870e-02, -1.04965465e-02, -1.07595846e-02,  6.65165018e-03,\n",
       "               1.17219565e-02, -8.75061005e-03, -1.05291232e-02, -4.45550792e-02,\n",
       "              -3.22127040e-03,  2.34807841e-02, -9.82028991e-03, -1.53841879e-02,\n",
       "              -2.73912810e-02, -1.67244226e-02,  3.51260067e-03, -9.30886716e-03,\n",
       "               1.23810787e-02, -1.31841805e-02,  2.01949640e-03, -3.49583919e-03,\n",
       "              -2.74997167e-02,  5.00860903e-03, -4.17263620e-03,  3.16488408e-02,\n",
       "               4.29571122e-02,  1.72651075e-02, -3.66258398e-02, -3.33033763e-02,\n",
       "               2.47010472e-03,  8.66480824e-03,  6.52698241e-03, -1.23317465e-02,\n",
       "               1.36218192e-02, -2.53178179e-02, -1.49812258e-03, -9.09238681e-03,\n",
       "               1.56748742e-02, -9.11473483e-03,  1.18988352e-02,  7.76791060e-03,\n",
       "              -1.74372215e-02, -1.87557787e-02,  2.03983765e-03, -2.72554848e-02,\n",
       "               2.72387709e-03, -1.14450222e-02,  5.00566419e-03,  4.45309607e-03,\n",
       "               1.48059055e-02, -7.38695264e-03, -6.54535543e-04, -1.36317778e-02,\n",
       "              -5.87574020e-03,  6.76331576e-03,  2.75934977e-03,  1.58343390e-02,\n",
       "               2.72833789e-03, -4.76568677e-02,  2.49768374e-03,  2.06974596e-02,\n",
       "               2.86827725e-03,  9.02021676e-03,  2.21587662e-02,  4.26540896e-03,\n",
       "              -1.08426051e-04, -3.48376273e-03, -4.61704470e-02, -4.81462292e-03,\n",
       "              -8.28609709e-03, -2.03263741e-02, -2.31014043e-02,  9.82383545e-03,\n",
       "               1.01590268e-02,  3.78794968e-02,  1.28771244e-02,  3.85090872e-03,\n",
       "              -5.88606410e-02, -2.47373544e-02,  1.44650666e-02,  4.04277369e-02,\n",
       "               2.44256016e-02,  8.53062049e-03,  4.17806655e-02, -3.25540788e-02,\n",
       "              -6.32156478e-03, -2.31498815e-02, -1.27479453e-02,  7.23009580e-05,\n",
       "               1.26000689e-02, -9.93020087e-03,  1.36527885e-02,  3.30706947e-02,\n",
       "              -1.09806024e-02, -2.28909962e-03, -2.63482239e-02,  2.43759025e-02,\n",
       "               3.94702442e-02,  1.94057040e-02, -2.60927435e-03,  5.14666270e-03,\n",
       "              -1.28796687e-02, -7.31649809e-03, -5.52910520e-03, -7.63697550e-03,\n",
       "              -6.69009471e-03,  1.98286260e-03,  8.86019785e-03, -1.49484295e-02],\n",
       "             dtype=float32)                                                       ],\n",
       "      dtype=object)"
      ]
     },
     "execution_count": 5,
     "metadata": {},
     "output_type": "execute_result"
    }
   ],
   "source": [
    "X[:3]"
   ]
  },
  {
   "cell_type": "code",
   "execution_count": 6,
   "metadata": {},
   "outputs": [],
   "source": [
    "import numpy as np\n",
    "\n",
    "# converting nested numpy arras into a nested numpy array\n",
    "X = np.stack(X)"
   ]
  },
  {
   "cell_type": "code",
   "execution_count": 7,
   "metadata": {},
   "outputs": [],
   "source": [
    "y = df['article_type']"
   ]
  },
  {
   "cell_type": "code",
   "execution_count": 8,
   "metadata": {},
   "outputs": [
    {
     "data": {
      "text/plain": [
       "article_type\n",
       "0    672\n",
       "1    562\n",
       "Name: count, dtype: int64"
      ]
     },
     "execution_count": 8,
     "metadata": {},
     "output_type": "execute_result"
    }
   ],
   "source": [
    "y.value_counts()"
   ]
  },
  {
   "cell_type": "code",
   "execution_count": 9,
   "metadata": {},
   "outputs": [],
   "source": [
    "from sklearn.model_selection import train_test_split\n",
    "\n",
    "X_train, X_test, y_train, y_test = train_test_split(X, y, test_size = 0.2, random_state = 1, stratify=df['article_type'])"
   ]
  },
  {
   "cell_type": "code",
   "execution_count": 10,
   "metadata": {},
   "outputs": [
    {
     "data": {
      "text/plain": [
       "(987, 300)"
      ]
     },
     "execution_count": 10,
     "metadata": {},
     "output_type": "execute_result"
    }
   ],
   "source": [
    "X_train.shape"
   ]
  },
  {
   "cell_type": "code",
   "execution_count": 11,
   "metadata": {},
   "outputs": [
    {
     "data": {
      "text/plain": [
       "(987,)"
      ]
     },
     "execution_count": 11,
     "metadata": {},
     "output_type": "execute_result"
    }
   ],
   "source": [
    "y_train.shape"
   ]
  },
  {
   "cell_type": "code",
   "execution_count": 12,
   "metadata": {},
   "outputs": [
    {
     "data": {
      "text/plain": [
       "(247, 300)"
      ]
     },
     "execution_count": 12,
     "metadata": {},
     "output_type": "execute_result"
    }
   ],
   "source": [
    "X_test.shape"
   ]
  },
  {
   "cell_type": "code",
   "execution_count": 13,
   "metadata": {},
   "outputs": [
    {
     "data": {
      "text/plain": [
       "(247,)"
      ]
     },
     "execution_count": 13,
     "metadata": {},
     "output_type": "execute_result"
    }
   ],
   "source": [
    "y_test.shape"
   ]
  },
  {
   "cell_type": "markdown",
   "metadata": {},
   "source": [
    "looking at the balance between labels of both classes"
   ]
  },
  {
   "cell_type": "code",
   "execution_count": 14,
   "metadata": {},
   "outputs": [
    {
     "data": {
      "text/plain": [
       "article_type\n",
       "0    537\n",
       "1    450\n",
       "Name: count, dtype: int64"
      ]
     },
     "execution_count": 14,
     "metadata": {},
     "output_type": "execute_result"
    }
   ],
   "source": [
    "y_train.value_counts()"
   ]
  },
  {
   "cell_type": "code",
   "execution_count": 15,
   "metadata": {},
   "outputs": [
    {
     "data": {
      "text/plain": [
       "article_type\n",
       "0    135\n",
       "1    112\n",
       "Name: count, dtype: int64"
      ]
     },
     "execution_count": 15,
     "metadata": {},
     "output_type": "execute_result"
    }
   ],
   "source": [
    "y_test.value_counts()"
   ]
  },
  {
   "cell_type": "markdown",
   "metadata": {},
   "source": [
    "training various ML models"
   ]
  },
  {
   "cell_type": "code",
   "execution_count": 16,
   "metadata": {},
   "outputs": [],
   "source": [
    "from sklearn.model_selection import RandomizedSearchCV\n",
    "from sklearn.metrics import classification_report"
   ]
  },
  {
   "cell_type": "markdown",
   "metadata": {},
   "source": [
    "Logistic Regression"
   ]
  },
  {
   "cell_type": "code",
   "execution_count": 17,
   "metadata": {},
   "outputs": [
    {
     "name": "stdout",
     "output_type": "stream",
     "text": [
      "              precision    recall  f1-score   support\n",
      "\n",
      "           0       0.71      0.90      0.79       135\n",
      "           1       0.82      0.54      0.66       112\n",
      "\n",
      "    accuracy                           0.74       247\n",
      "   macro avg       0.76      0.72      0.72       247\n",
      "weighted avg       0.76      0.74      0.73       247\n",
      "\n"
     ]
    }
   ],
   "source": [
    "from sklearn.linear_model import LogisticRegression\n",
    "\n",
    "lg = LogisticRegression()\n",
    "lg.fit(X_train, y_train)\n",
    "\n",
    "y_pred = lg.predict(X_test)\n",
    "\n",
    "print(classification_report(y_test, y_pred))"
   ]
  },
  {
   "cell_type": "code",
   "execution_count": 18,
   "metadata": {},
   "outputs": [
    {
     "name": "stdout",
     "output_type": "stream",
     "text": [
      "              precision    recall  f1-score   support\n",
      "\n",
      "           0       0.74      0.86      0.80       537\n",
      "           1       0.80      0.64      0.71       450\n",
      "\n",
      "    accuracy                           0.76       987\n",
      "   macro avg       0.77      0.75      0.76       987\n",
      "weighted avg       0.77      0.76      0.76       987\n",
      "\n"
     ]
    }
   ],
   "source": [
    "# to check for overfitting\n",
    "print(classification_report(y_train, lg.predict(X_train)))"
   ]
  },
  {
   "cell_type": "code",
   "execution_count": 20,
   "metadata": {},
   "outputs": [],
   "source": [
    "from sklearn.model_selection import cross_val_score\n",
    "\n",
    "cv_score_lg = cross_val_score(lg, X, y, cv=5)"
   ]
  },
  {
   "cell_type": "code",
   "execution_count": 21,
   "metadata": {},
   "outputs": [
    {
     "name": "stdout",
     "output_type": "stream",
     "text": [
      "[0.7611336  0.74898785 0.71659919 0.75708502 0.77642276]\n",
      "Mean accuracy: 0.7520456864487672\n"
     ]
    }
   ],
   "source": [
    "print(cv_score_lg)\n",
    "print(f'Mean accuracy: {np.mean(cv_score_lg)}')"
   ]
  },
  {
   "cell_type": "markdown",
   "metadata": {},
   "source": [
    "<h5>Support Vector Machine</h5>"
   ]
  },
  {
   "cell_type": "code",
   "execution_count": 22,
   "metadata": {},
   "outputs": [
    {
     "name": "stdout",
     "output_type": "stream",
     "text": [
      "              precision    recall  f1-score   support\n",
      "\n",
      "           0       0.86      0.90      0.88       135\n",
      "           1       0.87      0.83      0.85       112\n",
      "\n",
      "    accuracy                           0.87       247\n",
      "   macro avg       0.87      0.86      0.86       247\n",
      "weighted avg       0.87      0.87      0.87       247\n",
      "\n"
     ]
    }
   ],
   "source": [
    "from sklearn.svm import SVC\n",
    "\n",
    "svc = SVC(probability=True)\n",
    "svc.fit(X_train, y_train)\n",
    "\n",
    "y_pred = svc.predict(X_test)\n",
    "print(classification_report(y_test, y_pred))"
   ]
  },
  {
   "cell_type": "code",
   "execution_count": 23,
   "metadata": {},
   "outputs": [
    {
     "name": "stdout",
     "output_type": "stream",
     "text": [
      "              precision    recall  f1-score   support\n",
      "\n",
      "           0       0.93      0.88      0.90       537\n",
      "           1       0.86      0.92      0.89       450\n",
      "\n",
      "    accuracy                           0.90       987\n",
      "   macro avg       0.90      0.90      0.90       987\n",
      "weighted avg       0.90      0.90      0.90       987\n",
      "\n"
     ]
    }
   ],
   "source": [
    "# to check for overfitting\n",
    "print(classification_report(y_train, svc.predict(X_train)))"
   ]
  },
  {
   "cell_type": "code",
   "execution_count": 25,
   "metadata": {},
   "outputs": [],
   "source": [
    "cv_score_svc = cross_val_score(svc, X, y, cv=5)"
   ]
  },
  {
   "cell_type": "code",
   "execution_count": 26,
   "metadata": {},
   "outputs": [
    {
     "name": "stdout",
     "output_type": "stream",
     "text": [
      "[0.79352227 0.82591093 0.82186235 0.85425101 0.88211382]\n",
      "Mean accuracy: 0.8355320759685331\n"
     ]
    }
   ],
   "source": [
    "print(cv_score_svc)\n",
    "print(f'Mean accuracy: {np.mean(cv_score_svc)}')"
   ]
  },
  {
   "cell_type": "markdown",
   "metadata": {},
   "source": [
    "K-Nearest Neighbors"
   ]
  },
  {
   "cell_type": "code",
   "execution_count": 28,
   "metadata": {},
   "outputs": [
    {
     "name": "stdout",
     "output_type": "stream",
     "text": [
      "              precision    recall  f1-score   support\n",
      "\n",
      "           0       0.90      0.83      0.86       146\n",
      "           1       0.78      0.86      0.82       101\n",
      "\n",
      "    accuracy                           0.84       247\n",
      "   macro avg       0.84      0.85      0.84       247\n",
      "weighted avg       0.85      0.84      0.84       247\n",
      "\n"
     ]
    }
   ],
   "source": [
    "from sklearn.neighbors import KNeighborsClassifier\n",
    "\n",
    "knn = KNeighborsClassifier()\n",
    "knn.fit(X_train, y_train)\n",
    "\n",
    "y_pred = knn.predict(X_test)\n",
    "print(classification_report(y_pred, y_test))"
   ]
  },
  {
   "cell_type": "code",
   "execution_count": 29,
   "metadata": {},
   "outputs": [
    {
     "name": "stdout",
     "output_type": "stream",
     "text": [
      "              precision    recall  f1-score   support\n",
      "\n",
      "           0       0.89      0.89      0.89       537\n",
      "           1       0.87      0.86      0.87       450\n",
      "\n",
      "    accuracy                           0.88       987\n",
      "   macro avg       0.88      0.88      0.88       987\n",
      "weighted avg       0.88      0.88      0.88       987\n",
      "\n"
     ]
    }
   ],
   "source": [
    "# to check for overfitting\n",
    "print(classification_report(y_train, knn.predict(X_train)))"
   ]
  },
  {
   "cell_type": "code",
   "execution_count": 30,
   "metadata": {},
   "outputs": [],
   "source": [
    "cv_score_knn = cross_val_score(knn, X, y, cv=5)"
   ]
  },
  {
   "cell_type": "code",
   "execution_count": 31,
   "metadata": {},
   "outputs": [
    {
     "name": "stdout",
     "output_type": "stream",
     "text": [
      "[0.80161943 0.80566802 0.78137652 0.83805668 0.84146341]\n",
      "Mean accuracy: 0.8136368124814852\n"
     ]
    }
   ],
   "source": [
    "print(cv_score_knn)\n",
    "print(f'Mean accuracy: {np.mean(cv_score_knn)}')"
   ]
  },
  {
   "cell_type": "markdown",
   "metadata": {},
   "source": [
    "<h5>Linear Discriminant Analysis</h5>"
   ]
  },
  {
   "cell_type": "code",
   "execution_count": 33,
   "metadata": {},
   "outputs": [
    {
     "name": "stdout",
     "output_type": "stream",
     "text": [
      "              precision    recall  f1-score   support\n",
      "\n",
      "           0       0.83      0.88      0.85       127\n",
      "           1       0.87      0.81      0.84       120\n",
      "\n",
      "    accuracy                           0.85       247\n",
      "   macro avg       0.85      0.85      0.85       247\n",
      "weighted avg       0.85      0.85      0.85       247\n",
      "\n"
     ]
    }
   ],
   "source": [
    "from sklearn.discriminant_analysis import LinearDiscriminantAnalysis\n",
    "\n",
    "lda = LinearDiscriminantAnalysis()\n",
    "lda.fit(X_train, y_train)\n",
    "\n",
    "y_pred = lda.predict(X_test)\n",
    "print(classification_report(y_pred, y_test))"
   ]
  },
  {
   "cell_type": "code",
   "execution_count": 34,
   "metadata": {},
   "outputs": [
    {
     "name": "stdout",
     "output_type": "stream",
     "text": [
      "              precision    recall  f1-score   support\n",
      "\n",
      "           0       0.96      0.94      0.95       537\n",
      "           1       0.93      0.95      0.94       450\n",
      "\n",
      "    accuracy                           0.95       987\n",
      "   macro avg       0.94      0.95      0.94       987\n",
      "weighted avg       0.95      0.95      0.95       987\n",
      "\n"
     ]
    }
   ],
   "source": [
    "# to check for overfitting\n",
    "print(classification_report(y_train, lda.predict(X_train)))"
   ]
  },
  {
   "cell_type": "code",
   "execution_count": 35,
   "metadata": {},
   "outputs": [],
   "source": [
    "cv_score_lda = cross_val_score(lda, X, y, cv=5)"
   ]
  },
  {
   "cell_type": "code",
   "execution_count": 36,
   "metadata": {},
   "outputs": [
    {
     "name": "stdout",
     "output_type": "stream",
     "text": [
      "[0.76923077 0.8340081  0.81781377 0.85425101 0.82520325]\n",
      "Mean accuracy: 0.8201013791514434\n"
     ]
    }
   ],
   "source": [
    "print(cv_score_lda)\n",
    "print(f'Mean accuracy: {np.mean(cv_score_lda)}')"
   ]
  },
  {
   "cell_type": "markdown",
   "metadata": {},
   "source": [
    "<h5>Naive Bayes</h5>"
   ]
  },
  {
   "cell_type": "code",
   "execution_count": 37,
   "metadata": {},
   "outputs": [
    {
     "name": "stdout",
     "output_type": "stream",
     "text": [
      "              precision    recall  f1-score   support\n",
      "\n",
      "           0       0.66      0.75      0.70       119\n",
      "           1       0.73      0.64      0.68       128\n",
      "\n",
      "    accuracy                           0.69       247\n",
      "   macro avg       0.70      0.69      0.69       247\n",
      "weighted avg       0.70      0.69      0.69       247\n",
      "\n"
     ]
    }
   ],
   "source": [
    "from sklearn.naive_bayes import GaussianNB\n",
    "\n",
    "nb = GaussianNB()\n",
    "nb.fit(X_train, y_train)\n",
    "\n",
    "y_pred = nb.predict(X_test)\n",
    "print(classification_report(y_pred, y_test))"
   ]
  },
  {
   "cell_type": "code",
   "execution_count": 38,
   "metadata": {},
   "outputs": [
    {
     "name": "stdout",
     "output_type": "stream",
     "text": [
      "              precision    recall  f1-score   support\n",
      "\n",
      "           0       0.80      0.67      0.73       537\n",
      "           1       0.67      0.80      0.73       450\n",
      "\n",
      "    accuracy                           0.73       987\n",
      "   macro avg       0.74      0.74      0.73       987\n",
      "weighted avg       0.74      0.73      0.73       987\n",
      "\n"
     ]
    }
   ],
   "source": [
    "# to check for overfitting\n",
    "print(classification_report(y_train, nb.predict(X_train)))"
   ]
  },
  {
   "cell_type": "code",
   "execution_count": 39,
   "metadata": {},
   "outputs": [],
   "source": [
    "cv_score_nb = cross_val_score(svc, X, y, cv=5)"
   ]
  },
  {
   "cell_type": "code",
   "execution_count": 40,
   "metadata": {},
   "outputs": [
    {
     "name": "stdout",
     "output_type": "stream",
     "text": [
      "[0.79352227 0.82591093 0.82186235 0.85425101 0.88211382]\n",
      "Mean accuracy: 0.8355320759685331\n"
     ]
    }
   ],
   "source": [
    "print(cv_score_nb)\n",
    "print(f'Mean accuracy: {np.mean(cv_score_nb)}')"
   ]
  },
  {
   "cell_type": "markdown",
   "metadata": {},
   "source": [
    "<h5>Decision Tree Classifier</h5>"
   ]
  },
  {
   "cell_type": "code",
   "execution_count": 41,
   "metadata": {},
   "outputs": [
    {
     "name": "stdout",
     "output_type": "stream",
     "text": [
      "              precision    recall  f1-score   support\n",
      "\n",
      "           0       0.84      0.81      0.83       141\n",
      "           1       0.76      0.80      0.78       106\n",
      "\n",
      "    accuracy                           0.81       247\n",
      "   macro avg       0.80      0.81      0.80       247\n",
      "weighted avg       0.81      0.81      0.81       247\n",
      "\n"
     ]
    }
   ],
   "source": [
    "# decision tree\n",
    "from sklearn.tree import DecisionTreeClassifier\n",
    "\n",
    "dt = DecisionTreeClassifier()\n",
    "dt.fit(X_train, y_train)\n",
    "\n",
    "y_pred = dt.predict(X_test)\n",
    "print(classification_report(y_pred, y_test))"
   ]
  },
  {
   "cell_type": "code",
   "execution_count": 42,
   "metadata": {},
   "outputs": [
    {
     "name": "stdout",
     "output_type": "stream",
     "text": [
      "              precision    recall  f1-score   support\n",
      "\n",
      "           0       1.00      1.00      1.00       537\n",
      "           1       1.00      1.00      1.00       450\n",
      "\n",
      "    accuracy                           1.00       987\n",
      "   macro avg       1.00      1.00      1.00       987\n",
      "weighted avg       1.00      1.00      1.00       987\n",
      "\n"
     ]
    }
   ],
   "source": [
    "# to check for overfitting\n",
    "print(classification_report(y_train, dt.predict(X_train)))"
   ]
  },
  {
   "cell_type": "code",
   "execution_count": 45,
   "metadata": {},
   "outputs": [],
   "source": [
    "cv_score_dt = cross_val_score(dt, X, y, cv=5)"
   ]
  },
  {
   "cell_type": "code",
   "execution_count": 46,
   "metadata": {},
   "outputs": [
    {
     "name": "stdout",
     "output_type": "stream",
     "text": [
      "[0.64777328 0.72064777 0.74898785 0.75708502 0.76829268]\n",
      "Mean accuracy: 0.728557322010467\n"
     ]
    }
   ],
   "source": [
    "print(cv_score_dt)\n",
    "print(f'Mean accuracy: {np.mean(cv_score_dt)}')"
   ]
  },
  {
   "cell_type": "markdown",
   "metadata": {},
   "source": [
    "plotting a confusion matrix for the best model"
   ]
  },
  {
   "cell_type": "code",
   "execution_count": 43,
   "metadata": {},
   "outputs": [],
   "source": [
    "import matplotlib.pyplot as plt\n",
    "import seaborn as sns\n",
    "from sklearn.metrics import confusion_matrix"
   ]
  },
  {
   "cell_type": "code",
   "execution_count": 44,
   "metadata": {},
   "outputs": [
    {
     "data": {
      "image/png": "[encoded data removed]",
      "text/plain": [
       "<Figure size 1000x800 with 2 Axes>"
      ]
     },
     "metadata": {},
     "output_type": "display_data"
    }
   ],
   "source": [
    "# compute confusion matrix\n",
    "cm = confusion_matrix(svc.predict(X_test), y_test)\n",
    "\n",
    "# plot confusion matrix\n",
    "plt.figure(figsize=(10, 8))\n",
    "sns.heatmap(cm, annot=True, fmt=\"d\")\n",
    "plt.xlabel('Predicted')\n",
    "plt.ylabel('Actual')\n",
    "plt.show()"
   ]
  },
  {
   "cell_type": "markdown",
   "metadata": {},
   "source": [
    "export best model to ``src/`` for website"
   ]
  },
  {
   "cell_type": "code",
   "execution_count": 31,
   "metadata": {},
   "outputs": [],
   "source": [
    "import pickle\n",
    "\n",
    "with open('src/model.pkl', 'wb') as file:\n",
    "    pickle.dump(svc, file)"
   ]
  }
 ],
 "metadata": {
  "kernelspec": {
   "display_name": "Python 3.9.13",
   "language": "python",
   "name": "python3"
  },
  "language_info": {
   "codemirror_mode": {
    "name": "ipython",
    "version": 3
   },
   "file_extension": ".py",
   "mimetype": "text/x-python",
   "name": "python",
   "nbconvert_exporter": "python",
   "pygments_lexer": "ipython3",
   "version": "3.9.13"
  },
  "orig_nbformat": 4,
  "vscode": {
   "interpreter": {
    "hash": "aa11b94746fc3e31dd444f69cbc07362dc8f0f9fc8892b4755141b10c2d19365"
   }
  }
 },
 "nbformat": 4,
 "nbformat_minor": 2
}
