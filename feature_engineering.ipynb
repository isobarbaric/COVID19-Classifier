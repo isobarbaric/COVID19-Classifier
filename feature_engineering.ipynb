{
 "cells": [
  {
   "cell_type": "markdown",
   "metadata": {},
   "source": [
    "accessing processed data and loading into a Pandas DataFrame"
   ]
  },
  {
   "cell_type": "code",
   "execution_count": 1,
   "metadata": {},
   "outputs": [],
   "source": [
    "import pandas as pd"
   ]
  },
  {
   "cell_type": "code",
   "execution_count": 2,
   "metadata": {},
   "outputs": [],
   "source": [
    "# accessing stored processed data in JSON format\n",
    "df = pd.read_json('Data/processed_data.json', orient='records')"
   ]
  },
  {
   "cell_type": "code",
   "execution_count": 8,
   "metadata": {},
   "outputs": [
    {
     "data": {
      "text/plain": [
       "(1276, 4)"
      ]
     },
     "execution_count": 8,
     "metadata": {},
     "output_type": "execute_result"
    }
   ],
   "source": [
    "df.shape"
   ]
  },
  {
   "cell_type": "code",
   "execution_count": 12,
   "metadata": {},
   "outputs": [
    {
     "data": {
      "text/html": [
       "<div>\n",
       "<style scoped>\n",
       "    .dataframe tbody tr th:only-of-type {\n",
       "        vertical-align: middle;\n",
       "    }\n",
       "\n",
       "    .dataframe tbody tr th {\n",
       "        vertical-align: top;\n",
       "    }\n",
       "\n",
       "    .dataframe thead th {\n",
       "        text-align: right;\n",
       "    }\n",
       "</style>\n",
       "<table border=\"1\" class=\"dataframe\">\n",
       "  <thead>\n",
       "    <tr style=\"text-align: right;\">\n",
       "      <th></th>\n",
       "      <th>text</th>\n",
       "      <th>article_type</th>\n",
       "    </tr>\n",
       "  </thead>\n",
       "  <tbody>\n",
       "    <tr>\n",
       "      <th>0</th>\n",
       "      <td>Summary of data publicly reported by the Cente...</td>\n",
       "      <td>1</td>\n",
       "    </tr>\n",
       "    <tr>\n",
       "      <th>1</th>\n",
       "      <td>On May 11, 2023, the United States ended the P...</td>\n",
       "      <td>1</td>\n",
       "    </tr>\n",
       "    <tr>\n",
       "      <th>2</th>\n",
       "      <td>Our highly trained specialists are available 2...</td>\n",
       "      <td>1</td>\n",
       "    </tr>\n",
       "    <tr>\n",
       "      <th>3</th>\n",
       "      <td>Can we help you find more info? Start by selec...</td>\n",
       "      <td>1</td>\n",
       "    </tr>\n",
       "    <tr>\n",
       "      <th>4</th>\n",
       "      <td>Research – Youth Vaping and Lung Health The Am...</td>\n",
       "      <td>1</td>\n",
       "    </tr>\n",
       "  </tbody>\n",
       "</table>\n",
       "</div>"
      ],
      "text/plain": [
       "                                                text  article_type\n",
       "0  Summary of data publicly reported by the Cente...             1\n",
       "1  On May 11, 2023, the United States ended the P...             1\n",
       "2  Our highly trained specialists are available 2...             1\n",
       "3  Can we help you find more info? Start by selec...             1\n",
       "4  Research – Youth Vaping and Lung Health The Am...             1"
      ]
     },
     "execution_count": 12,
     "metadata": {},
     "output_type": "execute_result"
    }
   ],
   "source": [
    "df.head()"
   ]
  },
  {
   "cell_type": "code",
   "execution_count": 9,
   "metadata": {},
   "outputs": [],
   "source": [
    "# drop title, link column as they are not relevant to model training\n",
    "df = df.drop(columns=[\"title\", \"link\"])"
   ]
  },
  {
   "cell_type": "code",
   "execution_count": 10,
   "metadata": {},
   "outputs": [
    {
     "data": {
      "text/plain": [
       "(1276, 2)"
      ]
     },
     "execution_count": 10,
     "metadata": {},
     "output_type": "execute_result"
    }
   ],
   "source": [
    "df.shape"
   ]
  },
  {
   "cell_type": "code",
   "execution_count": 14,
   "metadata": {},
   "outputs": [
    {
     "data": {
      "text/plain": [
       "article_type\n",
       "0    705\n",
       "1    571\n",
       "Name: count, dtype: int64"
      ]
     },
     "execution_count": 14,
     "metadata": {},
     "output_type": "execute_result"
    }
   ],
   "source": [
    "df['article_type'].value_counts()"
   ]
  },
  {
   "cell_type": "markdown",
   "metadata": {},
   "source": [
    "change class label of output from \"science\", \"conspiracy\" to 0 and 1"
   ]
  },
  {
   "cell_type": "code",
   "execution_count": 16,
   "metadata": {},
   "outputs": [],
   "source": [
    "df['article_type'] = df['article_type'].map({\n",
    "    \"science\": 1,\n",
    "    \"conspiracy\": 0\n",
    "})"
   ]
  },
  {
   "cell_type": "code",
   "execution_count": 17,
   "metadata": {},
   "outputs": [
    {
     "data": {
      "text/html": [
       "<div>\n",
       "<style scoped>\n",
       "    .dataframe tbody tr th:only-of-type {\n",
       "        vertical-align: middle;\n",
       "    }\n",
       "\n",
       "    .dataframe tbody tr th {\n",
       "        vertical-align: top;\n",
       "    }\n",
       "\n",
       "    .dataframe thead th {\n",
       "        text-align: right;\n",
       "    }\n",
       "</style>\n",
       "<table border=\"1\" class=\"dataframe\">\n",
       "  <thead>\n",
       "    <tr style=\"text-align: right;\">\n",
       "      <th></th>\n",
       "      <th>text</th>\n",
       "      <th>article_type</th>\n",
       "    </tr>\n",
       "  </thead>\n",
       "  <tbody>\n",
       "    <tr>\n",
       "      <th>0</th>\n",
       "      <td>Summary of data publicly reported by the Cente...</td>\n",
       "      <td>NaN</td>\n",
       "    </tr>\n",
       "    <tr>\n",
       "      <th>1</th>\n",
       "      <td>On May 11, 2023, the United States ended the P...</td>\n",
       "      <td>NaN</td>\n",
       "    </tr>\n",
       "    <tr>\n",
       "      <th>2</th>\n",
       "      <td>Our highly trained specialists are available 2...</td>\n",
       "      <td>NaN</td>\n",
       "    </tr>\n",
       "    <tr>\n",
       "      <th>3</th>\n",
       "      <td>Can we help you find more info? Start by selec...</td>\n",
       "      <td>NaN</td>\n",
       "    </tr>\n",
       "    <tr>\n",
       "      <th>4</th>\n",
       "      <td>Research – Youth Vaping and Lung Health The Am...</td>\n",
       "      <td>NaN</td>\n",
       "    </tr>\n",
       "  </tbody>\n",
       "</table>\n",
       "</div>"
      ],
      "text/plain": [
       "                                                text  article_type\n",
       "0  Summary of data publicly reported by the Cente...           NaN\n",
       "1  On May 11, 2023, the United States ended the P...           NaN\n",
       "2  Our highly trained specialists are available 2...           NaN\n",
       "3  Can we help you find more info? Start by selec...           NaN\n",
       "4  Research – Youth Vaping and Lung Health The Am...           NaN"
      ]
     },
     "execution_count": 17,
     "metadata": {},
     "output_type": "execute_result"
    }
   ],
   "source": [
    "df.head()"
   ]
  },
  {
   "cell_type": "markdown",
   "metadata": {},
   "source": [
    "figure out correct way to approach this issue of an imbalanced data set"
   ]
  },
  {
   "cell_type": "markdown",
   "metadata": {},
   "source": [
    "how imbalanced is imbalanced? will making this optimization really change results at all? maybe try both"
   ]
  },
  {
   "cell_type": "code",
   "execution_count": null,
   "metadata": {},
   "outputs": [],
   "source": [
    "# add SMOTE code here\n",
    "\n",
    "# test it out after running previous notebook first (have to get all articles)"
   ]
  },
  {
   "cell_type": "code",
   "execution_count": 5,
   "metadata": {},
   "outputs": [
    {
     "name": "stdout",
     "output_type": "stream",
     "text": [
      "[==================================================] 100.0% 1662.8/1662.8MB downloaded\n"
     ]
    }
   ],
   "source": [
    "import gensim.downloader as api\n",
    "embeddings = api.load('word2vec-google-news-300')"
   ]
  },
  {
   "cell_type": "code",
   "execution_count": 7,
   "metadata": {},
   "outputs": [
    {
     "data": {
      "text/plain": [
       "0.729151"
      ]
     },
     "execution_count": 7,
     "metadata": {},
     "output_type": "execute_result"
    }
   ],
   "source": [
    "embeddings.similarity(\"good\", \"great\")"
   ]
  },
  {
   "cell_type": "markdown",
   "metadata": {},
   "source": [
    "process text"
   ]
  },
  {
   "cell_type": "markdown",
   "metadata": {},
   "source": [
    "create function to take text"
   ]
  },
  {
   "cell_type": "markdown",
   "metadata": {},
   "source": [
    "splitting the dataset into training data and test data"
   ]
  },
  {
   "cell_type": "code",
   "execution_count": 94,
   "metadata": {},
   "outputs": [],
   "source": [
    "from sklearn.model_selection import train_test_split\n",
    "training_set, test_set = train_test_split(df, test_size = 0.2, random_state = 1)"
   ]
  },
  {
   "cell_type": "code",
   "execution_count": 95,
   "metadata": {},
   "outputs": [
    {
     "data": {
      "text/html": [
       "<div>\n",
       "<style scoped>\n",
       "    .dataframe tbody tr th:only-of-type {\n",
       "        vertical-align: middle;\n",
       "    }\n",
       "\n",
       "    .dataframe tbody tr th {\n",
       "        vertical-align: top;\n",
       "    }\n",
       "\n",
       "    .dataframe thead th {\n",
       "        text-align: right;\n",
       "    }\n",
       "</style>\n",
       "<table border=\"1\" class=\"dataframe\">\n",
       "  <thead>\n",
       "    <tr style=\"text-align: right;\">\n",
       "      <th></th>\n",
       "      <th>title</th>\n",
       "      <th>link</th>\n",
       "      <th>text</th>\n",
       "      <th>article_type</th>\n",
       "    </tr>\n",
       "  </thead>\n",
       "  <tbody>\n",
       "    <tr>\n",
       "      <th>123</th>\n",
       "      <td>coronavirus vaccine</td>\n",
       "      <td>https://www.hopkinsmedicine.org/search?q=coron...</td>\n",
       "      <td>COVID-19 Vaccine: What You Need to Know - Hopk...</td>\n",
       "      <td>1</td>\n",
       "    </tr>\n",
       "    <tr>\n",
       "      <th>256</th>\n",
       "      <td>Prognosis and persistence of smell and taste d...</td>\n",
       "      <td>https://www.bmj.com/content/378/bmj-2021-069503</td>\n",
       "      <td>Smell and taste disorders tended to be overloo...</td>\n",
       "      <td>1</td>\n",
       "    </tr>\n",
       "    <tr>\n",
       "      <th>258</th>\n",
       "      <td>US CDC announces major changes after criticism...</td>\n",
       "      <td>https://www.bmj.com/content/378/bmj.o2074</td>\n",
       "      <td>Janice Hopkins Tanne New York The US national ...</td>\n",
       "      <td>1</td>\n",
       "    </tr>\n",
       "    <tr>\n",
       "      <th>31</th>\n",
       "      <td>Doomscrolling COVID-19 News Takes an Emotional...</td>\n",
       "      <td>https://scienceblogs.com/sb-admin/2021/10/22/d...</td>\n",
       "      <td>Picture this: it’s April 2020, you’re between ...</td>\n",
       "      <td>1</td>\n",
       "    </tr>\n",
       "    <tr>\n",
       "      <th>18</th>\n",
       "      <td>Polio was found in New York City wastewater. S...</td>\n",
       "      <td>https://geneticliteracyproject.org/2022/08/23/...</td>\n",
       "      <td>It’s easy to feel a bit of panic in the air. A...</td>\n",
       "      <td>1</td>\n",
       "    </tr>\n",
       "    <tr>\n",
       "      <th>...</th>\n",
       "      <td>...</td>\n",
       "      <td>...</td>\n",
       "      <td>...</td>\n",
       "      <td>...</td>\n",
       "    </tr>\n",
       "    <tr>\n",
       "      <th>203</th>\n",
       "      <td>Heat waves</td>\n",
       "      <td>https://watchers.news/category/earth-changes/h...</td>\n",
       "      <td>The second heatwave to hit Europe since mid-Ju...</td>\n",
       "      <td>1</td>\n",
       "    </tr>\n",
       "    <tr>\n",
       "      <th>255</th>\n",
       "      <td>Re: Risk of preterm birth, small for gestation...</td>\n",
       "      <td>https://www.bmj.com/content/378/bmj-2022-07141...</td>\n",
       "      <td></td>\n",
       "      <td>1</td>\n",
       "    </tr>\n",
       "    <tr>\n",
       "      <th>72</th>\n",
       "      <td>ponders society relationship with viruses</td>\n",
       "      <td>https://www.sciencenews.org/article/virology-b...</td>\n",
       "      <td>Virology Joseph Osmundson W.W. Norton &amp; Co., $...</td>\n",
       "      <td>1</td>\n",
       "    </tr>\n",
       "    <tr>\n",
       "      <th>235</th>\n",
       "      <td>CDC ResponseLearn how CDC is responding to COV...</td>\n",
       "      <td>https://www.cdc.gov/coronavirus/2019-ncov/comm...</td>\n",
       "      <td>UPDATE The White House announced that vaccines...</td>\n",
       "      <td>1</td>\n",
       "    </tr>\n",
       "    <tr>\n",
       "      <th>37</th>\n",
       "      <td>A mysterious virus is killing dogs in Michigan...</td>\n",
       "      <td>https://www.popsci.com/environment/mysterious-...</td>\n",
       "      <td>Local, state, and federal health agencies are ...</td>\n",
       "      <td>1</td>\n",
       "    </tr>\n",
       "  </tbody>\n",
       "</table>\n",
       "<p>216 rows × 4 columns</p>\n",
       "</div>"
      ],
      "text/plain": [
       "                                                 title  \\\n",
       "123                                coronavirus vaccine   \n",
       "256  Prognosis and persistence of smell and taste d...   \n",
       "258  US CDC announces major changes after criticism...   \n",
       "31   Doomscrolling COVID-19 News Takes an Emotional...   \n",
       "18   Polio was found in New York City wastewater. S...   \n",
       "..                                                 ...   \n",
       "203                                         Heat waves   \n",
       "255  Re: Risk of preterm birth, small for gestation...   \n",
       "72           ponders society relationship with viruses   \n",
       "235  CDC ResponseLearn how CDC is responding to COV...   \n",
       "37   A mysterious virus is killing dogs in Michigan...   \n",
       "\n",
       "                                                  link  \\\n",
       "123  https://www.hopkinsmedicine.org/search?q=coron...   \n",
       "256    https://www.bmj.com/content/378/bmj-2021-069503   \n",
       "258          https://www.bmj.com/content/378/bmj.o2074   \n",
       "31   https://scienceblogs.com/sb-admin/2021/10/22/d...   \n",
       "18   https://geneticliteracyproject.org/2022/08/23/...   \n",
       "..                                                 ...   \n",
       "203  https://watchers.news/category/earth-changes/h...   \n",
       "255  https://www.bmj.com/content/378/bmj-2022-07141...   \n",
       "72   https://www.sciencenews.org/article/virology-b...   \n",
       "235  https://www.cdc.gov/coronavirus/2019-ncov/comm...   \n",
       "37   https://www.popsci.com/environment/mysterious-...   \n",
       "\n",
       "                                                  text  article_type  \n",
       "123  COVID-19 Vaccine: What You Need to Know - Hopk...             1  \n",
       "256  Smell and taste disorders tended to be overloo...             1  \n",
       "258  Janice Hopkins Tanne New York The US national ...             1  \n",
       "31   Picture this: it’s April 2020, you’re between ...             1  \n",
       "18   It’s easy to feel a bit of panic in the air. A...             1  \n",
       "..                                                 ...           ...  \n",
       "203  The second heatwave to hit Europe since mid-Ju...             1  \n",
       "255                                                                1  \n",
       "72   Virology Joseph Osmundson W.W. Norton & Co., $...             1  \n",
       "235  UPDATE The White House announced that vaccines...             1  \n",
       "37   Local, state, and federal health agencies are ...             1  \n",
       "\n",
       "[216 rows x 4 columns]"
      ]
     },
     "execution_count": 95,
     "metadata": {},
     "output_type": "execute_result"
    }
   ],
   "source": [
    "training_set"
   ]
  },
  {
   "cell_type": "code",
   "execution_count": 96,
   "metadata": {},
   "outputs": [
    {
     "data": {
      "text/html": [
       "<div>\n",
       "<style scoped>\n",
       "    .dataframe tbody tr th:only-of-type {\n",
       "        vertical-align: middle;\n",
       "    }\n",
       "\n",
       "    .dataframe tbody tr th {\n",
       "        vertical-align: top;\n",
       "    }\n",
       "\n",
       "    .dataframe thead th {\n",
       "        text-align: right;\n",
       "    }\n",
       "</style>\n",
       "<table border=\"1\" class=\"dataframe\">\n",
       "  <thead>\n",
       "    <tr style=\"text-align: right;\">\n",
       "      <th></th>\n",
       "      <th>title</th>\n",
       "      <th>link</th>\n",
       "      <th>text</th>\n",
       "      <th>article_type</th>\n",
       "    </tr>\n",
       "  </thead>\n",
       "  <tbody>\n",
       "    <tr>\n",
       "      <th>376</th>\n",
       "      <td>Pandemic of Propaganda – The Unvaccinated Are ...</td>\n",
       "      <td>https://oye.news/news/psychological/propaganda...</td>\n",
       "      <td>I’ve added the dynamic graph using the embed c...</td>\n",
       "      <td>0</td>\n",
       "    </tr>\n",
       "    <tr>\n",
       "      <th>421</th>\n",
       "      <td>White House Orders 171 Million Doses of “New” ...</td>\n",
       "      <td>https://vaccineimpact.com/2022/white-house-ord...</td>\n",
       "      <td>by Brian Shilhavy Editor, Health Impact News T...</td>\n",
       "      <td>0</td>\n",
       "    </tr>\n",
       "    <tr>\n",
       "      <th>364</th>\n",
       "      <td>California Police Depts Refuse to Enforce News...</td>\n",
       "      <td>https://thefreethoughtproject.com/be-the-chang...</td>\n",
       "      <td>Last month, California Governor Gavin Newsom m...</td>\n",
       "      <td>0</td>\n",
       "    </tr>\n",
       "    <tr>\n",
       "      <th>354</th>\n",
       "      <td>Watch: Cop Accuses Frontline COVID Worker of \\...</td>\n",
       "      <td>https://thefreethoughtproject.com/police-bruta...</td>\n",
       "      <td>Ulster County, NY — Shana Shaw, 26, is a nurse...</td>\n",
       "      <td>0</td>\n",
       "    </tr>\n",
       "    <tr>\n",
       "      <th>463</th>\n",
       "      <td>10,000% Increase in Cancers Following COVID-19...</td>\n",
       "      <td>https://healthimpactnews.com/2022/10000-increa...</td>\n",
       "      <td>by Brian Shilhavy Editor, Health Impact News R...</td>\n",
       "      <td>0</td>\n",
       "    </tr>\n",
       "    <tr>\n",
       "      <th>...</th>\n",
       "      <td>...</td>\n",
       "      <td>...</td>\n",
       "      <td>...</td>\n",
       "      <td>...</td>\n",
       "    </tr>\n",
       "    <tr>\n",
       "      <th>473</th>\n",
       "      <td>Most people infected with Omicron weren't even...</td>\n",
       "      <td>https://www.sott.net/article/471164-Most-peopl...</td>\n",
       "      <td>The lack of public awareness about being infec...</td>\n",
       "      <td>0</td>\n",
       "    </tr>\n",
       "    <tr>\n",
       "      <th>407</th>\n",
       "      <td>COVID vaccination and turbo cancer: pathologic...</td>\n",
       "      <td>https://doctors4covidethics.org/covid-vaccinat...</td>\n",
       "      <td>In this video (26 min, Swedish with English su...</td>\n",
       "      <td>0</td>\n",
       "    </tr>\n",
       "    <tr>\n",
       "      <th>342</th>\n",
       "      <td>Journal Article Questioning COVID Vaccination ...</td>\n",
       "      <td>https://thevaccinereaction.org/2021/07/journal...</td>\n",
       "      <td>A scholarly article published in a medical jou...</td>\n",
       "      <td>0</td>\n",
       "    </tr>\n",
       "    <tr>\n",
       "      <th>410</th>\n",
       "      <td>with Professor Hannah Fry The BBC Pandemic Par...</td>\n",
       "      <td>https://iaindavis.com/propaganda-fry-part-3/</td>\n",
       "      <td>In Part 1 we looked at the propaganda and mani...</td>\n",
       "      <td>0</td>\n",
       "    </tr>\n",
       "    <tr>\n",
       "      <th>307</th>\n",
       "      <td>UV Robots Sweeping Hospitals, Killing the Coro...</td>\n",
       "      <td>https://realfarmacy.com/uv-robots/</td>\n",
       "      <td>Experts have repeatedly told us that the best ...</td>\n",
       "      <td>0</td>\n",
       "    </tr>\n",
       "  </tbody>\n",
       "</table>\n",
       "<p>168 rows × 4 columns</p>\n",
       "</div>"
      ],
      "text/plain": [
       "                                                 title  \\\n",
       "376  Pandemic of Propaganda – The Unvaccinated Are ...   \n",
       "421  White House Orders 171 Million Doses of “New” ...   \n",
       "364  California Police Depts Refuse to Enforce News...   \n",
       "354  Watch: Cop Accuses Frontline COVID Worker of \\...   \n",
       "463  10,000% Increase in Cancers Following COVID-19...   \n",
       "..                                                 ...   \n",
       "473  Most people infected with Omicron weren't even...   \n",
       "407  COVID vaccination and turbo cancer: pathologic...   \n",
       "342  Journal Article Questioning COVID Vaccination ...   \n",
       "410  with Professor Hannah Fry The BBC Pandemic Par...   \n",
       "307  UV Robots Sweeping Hospitals, Killing the Coro...   \n",
       "\n",
       "                                                  link  \\\n",
       "376  https://oye.news/news/psychological/propaganda...   \n",
       "421  https://vaccineimpact.com/2022/white-house-ord...   \n",
       "364  https://thefreethoughtproject.com/be-the-chang...   \n",
       "354  https://thefreethoughtproject.com/police-bruta...   \n",
       "463  https://healthimpactnews.com/2022/10000-increa...   \n",
       "..                                                 ...   \n",
       "473  https://www.sott.net/article/471164-Most-peopl...   \n",
       "407  https://doctors4covidethics.org/covid-vaccinat...   \n",
       "342  https://thevaccinereaction.org/2021/07/journal...   \n",
       "410       https://iaindavis.com/propaganda-fry-part-3/   \n",
       "307                 https://realfarmacy.com/uv-robots/   \n",
       "\n",
       "                                                  text  article_type  \n",
       "376  I’ve added the dynamic graph using the embed c...             0  \n",
       "421  by Brian Shilhavy Editor, Health Impact News T...             0  \n",
       "364  Last month, California Governor Gavin Newsom m...             0  \n",
       "354  Ulster County, NY — Shana Shaw, 26, is a nurse...             0  \n",
       "463  by Brian Shilhavy Editor, Health Impact News R...             0  \n",
       "..                                                 ...           ...  \n",
       "473  The lack of public awareness about being infec...             0  \n",
       "407  In this video (26 min, Swedish with English su...             0  \n",
       "342  A scholarly article published in a medical jou...             0  \n",
       "410  In Part 1 we looked at the propaganda and mani...             0  \n",
       "307  Experts have repeatedly told us that the best ...             0  \n",
       "\n",
       "[168 rows x 4 columns]"
      ]
     },
     "execution_count": 96,
     "metadata": {},
     "output_type": "execute_result"
    }
   ],
   "source": [
    "test_set"
   ]
  },
  {
   "cell_type": "markdown",
   "metadata": {},
   "source": [
    "<h4>Serializing the Training and Testing DataFrames for Further Use</h4>"
   ]
  },
  {
   "cell_type": "code",
   "execution_count": null,
   "metadata": {},
   "outputs": [],
   "source": [
    "train_data.to_pickle('Data/model/train_data.pkl')"
   ]
  },
  {
   "cell_type": "code",
   "execution_count": null,
   "metadata": {},
   "outputs": [],
   "source": [
    "test_data.to_pickle('Data/model/test_data.pkl')"
   ]
  },
  {
   "cell_type": "code",
   "execution_count": null,
   "metadata": {},
   "outputs": [],
   "source": [
    "import json\n",
    "\n",
    "with open('Data/model/relevant_words.json', 'w') as f:\n",
    "    json.dump(train_relevant_words, f, indent=4)"
   ]
  }
 ],
 "metadata": {
  "kernelspec": {
   "display_name": "Python 3.9.13",
   "language": "python",
   "name": "python3"
  },
  "language_info": {
   "codemirror_mode": {
    "name": "ipython",
    "version": 3
   },
   "file_extension": ".py",
   "mimetype": "text/x-python",
   "name": "python",
   "nbconvert_exporter": "python",
   "pygments_lexer": "ipython3",
   "version": "3.9.13"
  },
  "orig_nbformat": 4,
  "vscode": {
   "interpreter": {
    "hash": "aa11b94746fc3e31dd444f69cbc07362dc8f0f9fc8892b4755141b10c2d19365"
   }
  }
 },
 "nbformat": 4,
 "nbformat_minor": 2
}
