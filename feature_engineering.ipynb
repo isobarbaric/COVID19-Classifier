{
 "cells": [
  {
   "cell_type": "markdown",
   "metadata": {},
   "source": [
    "accessing processed data and loading into a Pandas DataFrame"
   ]
  },
  {
   "cell_type": "code",
   "execution_count": 2,
   "metadata": {},
   "outputs": [],
   "source": [
    "import pandas as pd"
   ]
  },
  {
   "cell_type": "code",
   "execution_count": 3,
   "metadata": {},
   "outputs": [],
   "source": [
    "# accessing stored processed data in JSON format\n",
    "df = pd.read_json('data/articles.json', orient='records')"
   ]
  },
  {
   "cell_type": "code",
   "execution_count": 4,
   "metadata": {},
   "outputs": [
    {
     "data": {
      "text/plain": [
       "(1262, 4)"
      ]
     },
     "execution_count": 4,
     "metadata": {},
     "output_type": "execute_result"
    }
   ],
   "source": [
    "df.shape"
   ]
  },
  {
   "cell_type": "code",
   "execution_count": 5,
   "metadata": {},
   "outputs": [
    {
     "data": {
      "text/html": [
       "<div>\n",
       "<style scoped>\n",
       "    .dataframe tbody tr th:only-of-type {\n",
       "        vertical-align: middle;\n",
       "    }\n",
       "\n",
       "    .dataframe tbody tr th {\n",
       "        vertical-align: top;\n",
       "    }\n",
       "\n",
       "    .dataframe thead th {\n",
       "        text-align: right;\n",
       "    }\n",
       "</style>\n",
       "<table border=\"1\" class=\"dataframe\">\n",
       "  <thead>\n",
       "    <tr style=\"text-align: right;\">\n",
       "      <th></th>\n",
       "      <th>title</th>\n",
       "      <th>link</th>\n",
       "      <th>text</th>\n",
       "      <th>article_type</th>\n",
       "    </tr>\n",
       "  </thead>\n",
       "  <tbody>\n",
       "    <tr>\n",
       "      <th>0</th>\n",
       "      <td>Children and COVID-19 Vaccination Trends</td>\n",
       "      <td>https://www.aap.org/en/pages/2019-novel-corona...</td>\n",
       "      <td>Summary of data publicly reported by the Cente...</td>\n",
       "      <td>science</td>\n",
       "    </tr>\n",
       "    <tr>\n",
       "      <th>1</th>\n",
       "      <td>COVID-19 State-Level Data Reports</td>\n",
       "      <td>https://www.aap.org/en/pages/2019-novel-corona...</td>\n",
       "      <td>On May 11, 2023, the United States ended the P...</td>\n",
       "      <td>science</td>\n",
       "    </tr>\n",
       "    <tr>\n",
       "      <th>2</th>\n",
       "      <td>Prevention Papillomavirus can cause 6 types of...</td>\n",
       "      <td>https://www.cancer.org/cancer/risk-prevention/...</td>\n",
       "      <td>Our highly trained specialists are available 2...</td>\n",
       "      <td>science</td>\n",
       "    </tr>\n",
       "    <tr>\n",
       "      <th>3</th>\n",
       "      <td>COVID-19</td>\n",
       "      <td>https://www.lung.org/lung-health-diseases/lung...</td>\n",
       "      <td>Can we help you find more info? Start by selec...</td>\n",
       "      <td>science</td>\n",
       "    </tr>\n",
       "    <tr>\n",
       "      <th>4</th>\n",
       "      <td>End Youth Vaping Let\\'s join together to end t...</td>\n",
       "      <td>https://www.lung.org/quit-smoking/end-youth-va...</td>\n",
       "      <td>Research – Youth Vaping and Lung Health The Am...</td>\n",
       "      <td>science</td>\n",
       "    </tr>\n",
       "  </tbody>\n",
       "</table>\n",
       "</div>"
      ],
      "text/plain": [
       "                                               title  \\\n",
       "0           Children and COVID-19 Vaccination Trends   \n",
       "1                  COVID-19 State-Level Data Reports   \n",
       "2  Prevention Papillomavirus can cause 6 types of...   \n",
       "3                                           COVID-19   \n",
       "4  End Youth Vaping Let\\'s join together to end t...   \n",
       "\n",
       "                                                link  \\\n",
       "0  https://www.aap.org/en/pages/2019-novel-corona...   \n",
       "1  https://www.aap.org/en/pages/2019-novel-corona...   \n",
       "2  https://www.cancer.org/cancer/risk-prevention/...   \n",
       "3  https://www.lung.org/lung-health-diseases/lung...   \n",
       "4  https://www.lung.org/quit-smoking/end-youth-va...   \n",
       "\n",
       "                                                text article_type  \n",
       "0  Summary of data publicly reported by the Cente...      science  \n",
       "1  On May 11, 2023, the United States ended the P...      science  \n",
       "2  Our highly trained specialists are available 2...      science  \n",
       "3  Can we help you find more info? Start by selec...      science  \n",
       "4  Research – Youth Vaping and Lung Health The Am...      science  "
      ]
     },
     "execution_count": 5,
     "metadata": {},
     "output_type": "execute_result"
    }
   ],
   "source": [
    "df.head()"
   ]
  },
  {
   "cell_type": "code",
   "execution_count": 6,
   "metadata": {},
   "outputs": [],
   "source": [
    "# drop title, link column as they are not relevant to model training\n",
    "df = df.drop(columns=[\"title\", \"link\"])"
   ]
  },
  {
   "cell_type": "code",
   "execution_count": 7,
   "metadata": {},
   "outputs": [
    {
     "data": {
      "text/plain": [
       "(1262, 2)"
      ]
     },
     "execution_count": 7,
     "metadata": {},
     "output_type": "execute_result"
    }
   ],
   "source": [
    "df.shape"
   ]
  },
  {
   "cell_type": "code",
   "execution_count": 8,
   "metadata": {},
   "outputs": [
    {
     "data": {
      "text/plain": [
       "article_type\n",
       "conspiracy    689\n",
       "science       573\n",
       "Name: count, dtype: int64"
      ]
     },
     "execution_count": 8,
     "metadata": {},
     "output_type": "execute_result"
    }
   ],
   "source": [
    "df['article_type'].value_counts()"
   ]
  },
  {
   "cell_type": "markdown",
   "metadata": {},
   "source": [
    "change class label of output from \"science\", \"conspiracy\" to 0 and 1"
   ]
  },
  {
   "cell_type": "code",
   "execution_count": 9,
   "metadata": {},
   "outputs": [],
   "source": [
    "df['article_type'] = df['article_type'].map({\n",
    "    \"science\": 1,\n",
    "    \"conspiracy\": 0\n",
    "})"
   ]
  },
  {
   "cell_type": "code",
   "execution_count": 10,
   "metadata": {},
   "outputs": [
    {
     "data": {
      "text/html": [
       "<div>\n",
       "<style scoped>\n",
       "    .dataframe tbody tr th:only-of-type {\n",
       "        vertical-align: middle;\n",
       "    }\n",
       "\n",
       "    .dataframe tbody tr th {\n",
       "        vertical-align: top;\n",
       "    }\n",
       "\n",
       "    .dataframe thead th {\n",
       "        text-align: right;\n",
       "    }\n",
       "</style>\n",
       "<table border=\"1\" class=\"dataframe\">\n",
       "  <thead>\n",
       "    <tr style=\"text-align: right;\">\n",
       "      <th></th>\n",
       "      <th>text</th>\n",
       "      <th>article_type</th>\n",
       "    </tr>\n",
       "  </thead>\n",
       "  <tbody>\n",
       "    <tr>\n",
       "      <th>0</th>\n",
       "      <td>Summary of data publicly reported by the Cente...</td>\n",
       "      <td>1</td>\n",
       "    </tr>\n",
       "    <tr>\n",
       "      <th>1</th>\n",
       "      <td>On May 11, 2023, the United States ended the P...</td>\n",
       "      <td>1</td>\n",
       "    </tr>\n",
       "    <tr>\n",
       "      <th>2</th>\n",
       "      <td>Our highly trained specialists are available 2...</td>\n",
       "      <td>1</td>\n",
       "    </tr>\n",
       "    <tr>\n",
       "      <th>3</th>\n",
       "      <td>Can we help you find more info? Start by selec...</td>\n",
       "      <td>1</td>\n",
       "    </tr>\n",
       "    <tr>\n",
       "      <th>4</th>\n",
       "      <td>Research – Youth Vaping and Lung Health The Am...</td>\n",
       "      <td>1</td>\n",
       "    </tr>\n",
       "  </tbody>\n",
       "</table>\n",
       "</div>"
      ],
      "text/plain": [
       "                                                text  article_type\n",
       "0  Summary of data publicly reported by the Cente...             1\n",
       "1  On May 11, 2023, the United States ended the P...             1\n",
       "2  Our highly trained specialists are available 2...             1\n",
       "3  Can we help you find more info? Start by selec...             1\n",
       "4  Research – Youth Vaping and Lung Health The Am...             1"
      ]
     },
     "execution_count": 10,
     "metadata": {},
     "output_type": "execute_result"
    }
   ],
   "source": [
    "df.head()"
   ]
  },
  {
   "cell_type": "code",
   "execution_count": 11,
   "metadata": {},
   "outputs": [
    {
     "data": {
      "text/plain": [
       "article_type\n",
       "0    689\n",
       "1    573\n",
       "Name: count, dtype: int64"
      ]
     },
     "execution_count": 11,
     "metadata": {},
     "output_type": "execute_result"
    }
   ],
   "source": [
    "df['article_type'].value_counts()"
   ]
  },
  {
   "cell_type": "markdown",
   "metadata": {},
   "source": [
    "create function to process text"
   ]
  },
  {
   "cell_type": "code",
   "execution_count": 12,
   "metadata": {},
   "outputs": [],
   "source": [
    "from src.model.text_processor import TextProcessor\n",
    "text_processor = TextProcessor()"
   ]
  },
  {
   "cell_type": "code",
   "execution_count": 13,
   "metadata": {},
   "outputs": [],
   "source": [
    "# remove, added this to pre_processing\n",
    "df = df[df['text'] != \"\"]"
   ]
  },
  {
   "cell_type": "code",
   "execution_count": 14,
   "metadata": {},
   "outputs": [
    {
     "data": {
      "text/plain": [
       "(1234, 2)"
      ]
     },
     "execution_count": 14,
     "metadata": {},
     "output_type": "execute_result"
    }
   ],
   "source": [
    "df.shape"
   ]
  },
  {
   "cell_type": "code",
   "execution_count": 15,
   "metadata": {},
   "outputs": [],
   "source": [
    "df['embedding_vector'] = df['text'].apply(lambda x: text_processor.process(x))"
   ]
  },
  {
   "cell_type": "code",
   "execution_count": 16,
   "metadata": {},
   "outputs": [
    {
     "data": {
      "text/html": [
       "<div>\n",
       "<style scoped>\n",
       "    .dataframe tbody tr th:only-of-type {\n",
       "        vertical-align: middle;\n",
       "    }\n",
       "\n",
       "    .dataframe tbody tr th {\n",
       "        vertical-align: top;\n",
       "    }\n",
       "\n",
       "    .dataframe thead th {\n",
       "        text-align: right;\n",
       "    }\n",
       "</style>\n",
       "<table border=\"1\" class=\"dataframe\">\n",
       "  <thead>\n",
       "    <tr style=\"text-align: right;\">\n",
       "      <th></th>\n",
       "      <th>text</th>\n",
       "      <th>article_type</th>\n",
       "      <th>embedding_vector</th>\n",
       "    </tr>\n",
       "  </thead>\n",
       "  <tbody>\n",
       "    <tr>\n",
       "      <th>0</th>\n",
       "      <td>Summary of data publicly reported by the Cente...</td>\n",
       "      <td>1</td>\n",
       "      <td>[0.005152532, 0.0041832207, 0.0013592248, 0.02...</td>\n",
       "    </tr>\n",
       "    <tr>\n",
       "      <th>1</th>\n",
       "      <td>On May 11, 2023, the United States ended the P...</td>\n",
       "      <td>1</td>\n",
       "      <td>[-0.004177533, -0.009758532, -0.01115001, 0.03...</td>\n",
       "    </tr>\n",
       "    <tr>\n",
       "      <th>2</th>\n",
       "      <td>Our highly trained specialists are available 2...</td>\n",
       "      <td>1</td>\n",
       "      <td>[-0.011494388, -0.009370449, 0.008532594, 0.01...</td>\n",
       "    </tr>\n",
       "    <tr>\n",
       "      <th>3</th>\n",
       "      <td>Can we help you find more info? Start by selec...</td>\n",
       "      <td>1</td>\n",
       "      <td>[-0.0018576796, 0.028474232, -0.013181964, 0.0...</td>\n",
       "    </tr>\n",
       "    <tr>\n",
       "      <th>4</th>\n",
       "      <td>Research – Youth Vaping and Lung Health The Am...</td>\n",
       "      <td>1</td>\n",
       "      <td>[-0.01785805, 0.0006542458, 0.0037484693, 0.03...</td>\n",
       "    </tr>\n",
       "    <tr>\n",
       "      <th>...</th>\n",
       "      <td>...</td>\n",
       "      <td>...</td>\n",
       "      <td>...</td>\n",
       "    </tr>\n",
       "    <tr>\n",
       "      <th>1257</th>\n",
       "      <td>We may earn commission from links on this page...</td>\n",
       "      <td>0</td>\n",
       "      <td>[0.0018057713, 0.022749502, -0.00049236, 0.030...</td>\n",
       "    </tr>\n",
       "    <tr>\n",
       "      <th>1258</th>\n",
       "      <td>By Norma Erickson February 7, 2011 For Georgio...</td>\n",
       "      <td>0</td>\n",
       "      <td>[-0.011514382, 0.0060215113, 0.016591966, 0.02...</td>\n",
       "    </tr>\n",
       "    <tr>\n",
       "      <th>1259</th>\n",
       "      <td>Search by keyword Search by Category Search he...</td>\n",
       "      <td>0</td>\n",
       "      <td>[-0.003980596, 0.012227758, -0.00442995, 0.026...</td>\n",
       "    </tr>\n",
       "    <tr>\n",
       "      <th>1260</th>\n",
       "      <td>Search by keyword Search by Category Search he...</td>\n",
       "      <td>0</td>\n",
       "      <td>[-0.003980596, 0.012227758, -0.00442995, 0.026...</td>\n",
       "    </tr>\n",
       "    <tr>\n",
       "      <th>1261</th>\n",
       "      <td>Search by keyword Search by Category Search he...</td>\n",
       "      <td>0</td>\n",
       "      <td>[-0.003980596, 0.012227758, -0.00442995, 0.026...</td>\n",
       "    </tr>\n",
       "  </tbody>\n",
       "</table>\n",
       "<p>1234 rows × 3 columns</p>\n",
       "</div>"
      ],
      "text/plain": [
       "                                                   text  article_type  \\\n",
       "0     Summary of data publicly reported by the Cente...             1   \n",
       "1     On May 11, 2023, the United States ended the P...             1   \n",
       "2     Our highly trained specialists are available 2...             1   \n",
       "3     Can we help you find more info? Start by selec...             1   \n",
       "4     Research – Youth Vaping and Lung Health The Am...             1   \n",
       "...                                                 ...           ...   \n",
       "1257  We may earn commission from links on this page...             0   \n",
       "1258  By Norma Erickson February 7, 2011 For Georgio...             0   \n",
       "1259  Search by keyword Search by Category Search he...             0   \n",
       "1260  Search by keyword Search by Category Search he...             0   \n",
       "1261  Search by keyword Search by Category Search he...             0   \n",
       "\n",
       "                                       embedding_vector  \n",
       "0     [0.005152532, 0.0041832207, 0.0013592248, 0.02...  \n",
       "1     [-0.004177533, -0.009758532, -0.01115001, 0.03...  \n",
       "2     [-0.011494388, -0.009370449, 0.008532594, 0.01...  \n",
       "3     [-0.0018576796, 0.028474232, -0.013181964, 0.0...  \n",
       "4     [-0.01785805, 0.0006542458, 0.0037484693, 0.03...  \n",
       "...                                                 ...  \n",
       "1257  [0.0018057713, 0.022749502, -0.00049236, 0.030...  \n",
       "1258  [-0.011514382, 0.0060215113, 0.016591966, 0.02...  \n",
       "1259  [-0.003980596, 0.012227758, -0.00442995, 0.026...  \n",
       "1260  [-0.003980596, 0.012227758, -0.00442995, 0.026...  \n",
       "1261  [-0.003980596, 0.012227758, -0.00442995, 0.026...  \n",
       "\n",
       "[1234 rows x 3 columns]"
      ]
     },
     "execution_count": 16,
     "metadata": {},
     "output_type": "execute_result"
    }
   ],
   "source": [
    "df"
   ]
  },
  {
   "cell_type": "markdown",
   "metadata": {},
   "source": [
    "serializing the DataFrame for model training"
   ]
  },
  {
   "cell_type": "code",
   "execution_count": 17,
   "metadata": {},
   "outputs": [],
   "source": [
    "df.to_pickle('data/model/data.pkl')"
   ]
  }
 ],
 "metadata": {
  "kernelspec": {
   "display_name": "Python 3.9.13",
   "language": "python",
   "name": "python3"
  },
  "language_info": {
   "codemirror_mode": {
    "name": "ipython",
    "version": 3
   },
   "file_extension": ".py",
   "mimetype": "text/x-python",
   "name": "python",
   "nbconvert_exporter": "python",
   "pygments_lexer": "ipython3",
   "version": "3.9.13"
  },
  "orig_nbformat": 4,
  "vscode": {
   "interpreter": {
    "hash": "aa11b94746fc3e31dd444f69cbc07362dc8f0f9fc8892b4755141b10c2d19365"
   }
  }
 },
 "nbformat": 4,
 "nbformat_minor": 2
}
