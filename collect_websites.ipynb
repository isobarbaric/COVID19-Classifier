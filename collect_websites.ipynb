{
 "cells": [
  {
   "cell_type": "markdown",
   "metadata": {},
   "source": [
    "accessing appropriate pages on MediaBiasFactCheck to collect sites to visit"
   ]
  },
  {
   "cell_type": "code",
   "execution_count": 31,
   "metadata": {},
   "outputs": [],
   "source": [
    "import requests"
   ]
  },
  {
   "cell_type": "code",
   "execution_count": 32,
   "metadata": {},
   "outputs": [],
   "source": [
    "science_url = 'https://mediabiasfactcheck.com/pro-science/'\n",
    "conspiracy_url = 'https://mediabiasfactcheck.com/conspiracy/'"
   ]
  },
  {
   "cell_type": "code",
   "execution_count": 33,
   "metadata": {},
   "outputs": [],
   "source": [
    "science_page = requests.get(science_url, timeout=5)\n",
    "conspiracy_page = requests.get(conspiracy_url, timeout=5)"
   ]
  },
  {
   "cell_type": "code",
   "execution_count": 34,
   "metadata": {},
   "outputs": [],
   "source": [
    "from bs4 import BeautifulSoup"
   ]
  },
  {
   "cell_type": "markdown",
   "metadata": {},
   "source": [
    "parsing through both pages and finding all sites that can be visited"
   ]
  },
  {
   "cell_type": "code",
   "execution_count": 35,
   "metadata": {},
   "outputs": [],
   "source": [
    "science_soup = BeautifulSoup(science_page.content, 'lxml')\n",
    "science_sites = science_soup.find_all('span', {'style': 'font-size: 12pt;'})"
   ]
  },
  {
   "cell_type": "code",
   "execution_count": 36,
   "metadata": {},
   "outputs": [],
   "source": [
    "conspiracy_soup = BeautifulSoup(conspiracy_page.content, 'lxml')\n",
    "conspiracy_sites = conspiracy_soup.find_all('span', {'style': 'font-size: 12pt;'})"
   ]
  },
  {
   "cell_type": "markdown",
   "metadata": {},
   "source": [
    "extracting all science and conspiracy pages that can be visited"
   ]
  },
  {
   "cell_type": "code",
   "execution_count": 52,
   "metadata": {},
   "outputs": [],
   "source": [
    "# will ensure request can deal with all links\n",
    "def format_links(link):\n",
    "    if not link.startswith(('https://www', \"http://www.\", \"http://\", \"https://\")):\n",
    "        if not link.startswith(('www.')):\n",
    "            link = 'www.' + link\n",
    "        if not link.startswith(('http://', 'https://')):\n",
    "            link = 'https://' + link\n",
    "    return link"
   ]
  },
  {
   "cell_type": "code",
   "execution_count": 61,
   "metadata": {},
   "outputs": [],
   "source": [
    "def create_db(sites):\n",
    "    db = []\n",
    "    for site in sites:\n",
    "        link = format_links(site.text[site.text.rfind('(')+1:-1])\n",
    "        source = site.text[:site.text.rfind('(')-1]\n",
    "\n",
    "        if link.count(' ') == 0 and len(source) >= 2:\n",
    "            db.append({\"name\": source, \"url\": link})    \n",
    "    return db"
   ]
  },
  {
   "cell_type": "code",
   "execution_count": 62,
   "metadata": {},
   "outputs": [],
   "source": [
    "science_db = create_db(science_sites)\n",
    "conspiracy_db = create_db(conspiracy_sites)"
   ]
  },
  {
   "cell_type": "code",
   "execution_count": 63,
   "metadata": {},
   "outputs": [
    {
     "data": {
      "text/plain": [
       "[{'name': 'Acoustics Journal',\n",
       "  'url': 'https://www.mdpi.com/journal/acoustics'},\n",
       " {'name': 'Acta Neuropathologica Communications',\n",
       "  'url': 'https://www.actaneurocomms.biomedcentral.com'},\n",
       " {'name': 'Actuators Journal',\n",
       "  'url': 'https://www.mdpi.com/journal/actuators'},\n",
       " {'name': 'Administrative Sciences Journal',\n",
       "  'url': 'https://www.mdpi.com/journal/admsci'},\n",
       " {'name': 'Adolescents Journal',\n",
       "  'url': 'https://www.mdpi.com/journal/adolescents'},\n",
       " {'name': 'Advances in Respiratory Medicine',\n",
       "  'url': 'https://www.mdpi.com/journal/arm'},\n",
       " {'name': 'Aerospace Journal',\n",
       "  'url': 'https://www.mdpi.com/journal/aerospace'},\n",
       " {'name': 'Agriculture Journal',\n",
       "  'url': 'https://www.mdpi.com/journal/agriculture'},\n",
       " {'name': 'AgriEngineering Journal',\n",
       "  'url': 'https://www.mdpi.com/journal/agriengineering'},\n",
       " {'name': 'Agrochemicals Journal',\n",
       "  'url': 'https://www.mdpi.com/journal/agrochemicals'}]"
      ]
     },
     "execution_count": 63,
     "metadata": {},
     "output_type": "execute_result"
    }
   ],
   "source": [
    "science_db[:10]"
   ]
  },
  {
   "cell_type": "code",
   "execution_count": 64,
   "metadata": {},
   "outputs": [
    {
     "data": {
      "text/plain": [
       "[{'name': '2020ElectionCenter.c', 'url': 'https://www.2020ElectionCenter.co'},\n",
       " {'name': '21st Century Wire', 'url': 'https://www.21stcenturywire.com'},\n",
       " {'name': '79Days.Ne', 'url': 'https://www.79Days.New'},\n",
       " {'name': '369 News', 'url': 'https://www.369news.net'},\n",
       " {'name': '911Truth.org', 'url': 'https://www.911truth.org'},\n",
       " {'name': 'Above Top Secret', 'url': 'https://www.abovetopsecret.com'},\n",
       " {'name': 'A Call for an Uprising',\n",
       "  'url': 'https://www.acallforanuprising.com'},\n",
       " {'name': 'ACNLatitudes', 'url': 'https://www.latitudes.org'},\n",
       " {'name': 'Activist Post', 'url': 'https://www.activistpost.com'},\n",
       " {'name': 'Actualized.o', 'url': 'https://www.Actualized.or'}]"
      ]
     },
     "execution_count": 64,
     "metadata": {},
     "output_type": "execute_result"
    }
   ],
   "source": [
    "conspiracy_db[:10]"
   ]
  },
  {
   "cell_type": "markdown",
   "metadata": {},
   "source": [
    "validation to ensure all links have valid headers"
   ]
  },
  {
   "cell_type": "code",
   "execution_count": 44,
   "metadata": {},
   "outputs": [],
   "source": [
    "from urllib.parse import urlparse\n",
    "\n",
    "def is_valid_url(url):\n",
    "    try:\n",
    "        result = urlparse(url)\n",
    "        return all([result.scheme in ['http', 'https'], result.netloc])\n",
    "    except ValueError:\n",
    "        return False"
   ]
  },
  {
   "cell_type": "markdown",
   "metadata": {},
   "source": [
    "checking if any links are not valid using the function above"
   ]
  },
  {
   "cell_type": "code",
   "execution_count": 46,
   "metadata": {},
   "outputs": [],
   "source": [
    "assert [is_valid_url(page['url']) for page in science_db].count(False) == 0"
   ]
  },
  {
   "cell_type": "code",
   "execution_count": 47,
   "metadata": {},
   "outputs": [],
   "source": [
    "assert [is_valid_url(page['url']) for page in conspiracy_db].count(False) == 0"
   ]
  },
  {
   "cell_type": "markdown",
   "metadata": {},
   "source": [
    "converting both dbs to JSON and sending them to storage in the data/ directory"
   ]
  },
  {
   "cell_type": "code",
   "execution_count": 48,
   "metadata": {},
   "outputs": [],
   "source": [
    "import json"
   ]
  },
  {
   "cell_type": "code",
   "execution_count": 49,
   "metadata": {},
   "outputs": [],
   "source": [
    "science_json = json.dumps(science_db, indent=4)\n",
    "conspiracy_json = json.dumps(conspiracy_db, indent=4)"
   ]
  },
  {
   "cell_type": "code",
   "execution_count": 50,
   "metadata": {},
   "outputs": [],
   "source": [
    "with open('data/science.json', 'w') as file:\n",
    "    file.write(science_json)"
   ]
  },
  {
   "cell_type": "code",
   "execution_count": 51,
   "metadata": {},
   "outputs": [],
   "source": [
    "with open('data/conspiracy.json', 'w') as file:\n",
    "    file.write(conspiracy_json)"
   ]
  }
 ],
 "metadata": {
  "kernelspec": {
   "display_name": "covid19-classifier-EHzMhhWe-py3.9",
   "language": "python",
   "name": "python3"
  },
  "language_info": {
   "codemirror_mode": {
    "name": "ipython",
    "version": 3
   },
   "file_extension": ".py",
   "mimetype": "text/x-python",
   "name": "python",
   "nbconvert_exporter": "python",
   "pygments_lexer": "ipython3",
   "version": "3.9.13"
  }
 },
 "nbformat": 4,
 "nbformat_minor": 2
}
