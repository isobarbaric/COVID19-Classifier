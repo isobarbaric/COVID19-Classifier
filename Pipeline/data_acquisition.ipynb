{
 "cells": [
  {
   "cell_type": "markdown",
   "metadata": {},
   "source": [
    "<h1>Data Acqusition</h1>\n",
    "<h3>\n",
    "    <ol>\n",
    "        <li>\n",
    "            Scraping <a href='https://mediabiasfactcheck.com'>MediaBiasFactCheck</a> and The Generated Article Lists\n",
    "        </li>\n",
    "        <li>\n",
    "            Saving JSON results obtained from Scraping\n",
    "        </li>\n",
    "    </ol>\n",
    "</h3>\n",
    "\n",
    "***"
   ]
  },
  {
   "cell_type": "markdown",
   "metadata": {},
   "source": [
    "<h4>Scraping <a href='https://mediabiasfactcheck.com'>MediaBiasFactCheck</a> and The Generated Article Lists</h4>"
   ]
  },
  {
   "cell_type": "code",
   "execution_count": 1,
   "metadata": {},
   "outputs": [],
   "source": [
    "from article_finder import ArticleFinder"
   ]
  },
  {
   "cell_type": "code",
   "execution_count": 2,
   "metadata": {},
   "outputs": [],
   "source": [
    "# defining two variables to store the MBFC page links for scientific and conspiracy articles\n",
    "science_url = 'https://mediabiasfactcheck.com/pro-science/'\n",
    "conspiracy_url = 'https://mediabiasfactcheck.com/conspiracy/'"
   ]
  },
  {
   "cell_type": "code",
   "execution_count": 3,
   "metadata": {},
   "outputs": [],
   "source": [
    "# creating an ArticleFinder object to find articles\n",
    "article_finder = ArticleFinder()"
   ]
  },
  {
   "cell_type": "code",
   "execution_count": 4,
   "metadata": {},
   "outputs": [],
   "source": [
    "# finding the scientific articles\n",
    "science_articles = article_finder.find_articles(science_url)"
   ]
  },
  {
   "cell_type": "code",
   "execution_count": 6,
   "metadata": {},
   "outputs": [],
   "source": [
    "# finding the conspiracy articles\n",
    "conspiracy_articles = article_finder.find_articles(conspiracy_url)"
   ]
  },
  {
   "cell_type": "markdown",
   "metadata": {},
   "source": [
    "<h4>Saving JSON results obtained from Scraping</h4>"
   ]
  },
  {
   "cell_type": "code",
   "execution_count": null,
   "metadata": {},
   "outputs": [],
   "source": [
    "import json\n",
    "\n",
    "# creating a function to store JSON files\n",
    "def write_to_storage(name: str, articles: list[str]) -> None:\n",
    "    # specifying a filename where to create a new file\n",
    "    filename = f\"../Data/extract/{name}.json\"\n",
    "\n",
    "    # creating a new file located at filename and writing JSON-ified articles into that file\n",
    "    with open(filename, 'w') as storage:\n",
    "        storage.write(json.dumps(articles, indent = 4))"
   ]
  },
  {
   "cell_type": "code",
   "execution_count": null,
   "metadata": {},
   "outputs": [],
   "source": [
    "# writing the scientific and conspiracy articles found to storage for further use\n",
    "\n",
    "write_to_storage('science', science_articles)\n",
    "write_to_storage('conspiracy', conspiracy_articles)"
   ]
  }
 ],
 "metadata": {
  "kernelspec": {
   "display_name": "Python 3.9.13",
   "language": "python",
   "name": "python3"
  },
  "language_info": {
   "codemirror_mode": {
    "name": "ipython",
    "version": 3
   },
   "file_extension": ".py",
   "mimetype": "text/x-python",
   "name": "python",
   "nbconvert_exporter": "python",
   "pygments_lexer": "ipython3",
   "version": "3.9.13"
  },
  "orig_nbformat": 4,
  "vscode": {
   "interpreter": {
    "hash": "aa11b94746fc3e31dd444f69cbc07362dc8f0f9fc8892b4755141b10c2d19365"
   }
  }
 },
 "nbformat": 4,
 "nbformat_minor": 2
}
