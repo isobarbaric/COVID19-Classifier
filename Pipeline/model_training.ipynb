{
 "cells": [
  {
   "cell_type": "markdown",
   "metadata": {},
   "source": [
    "<h1>Model Training</h1>\n",
    "<h3>\n",
    "    <ol>\n",
    "        <li>\n",
    "            Accessing Training and Testing Data\n",
    "        </li>\n",
    "        <li>\n",
    "            Training Various ML Models\n",
    "            <ul>\n",
    "                <li>Logistic Regression</li>\n",
    "                <li>Linear Discriminant Analysis</li>\n",
    "                <li>K-Nearest Neighbors</li>\n",
    "                <li>Naive Bayes</li>\n",
    "                <li>Decision Tree Classifier</li>\n",
    "                <li>Support Vector Machine</li>\n",
    "            </ul>\n",
    "        </li>\n",
    "        <li>\n",
    "            Tabulating the Results of the Training\n",
    "        </li>\n",
    "    </ol>\n",
    "</h3>\n",
    "\n",
    "***"
   ]
  },
  {
   "cell_type": "markdown",
   "metadata": {},
   "source": [
    "<h4>Accessing Training and Testing Data</h4>"
   ]
  },
  {
   "cell_type": "code",
   "execution_count": 2,
   "metadata": {},
   "outputs": [],
   "source": [
    "import pandas as pd\n",
    "\n",
    "# loading training and test data dataframes\n",
    "train_data = pd.read_pickle('../Data/model/train_data.pkl')\n",
    "test_data = pd.read_pickle('../Data/model/test_data.pkl')"
   ]
  },
  {
   "cell_type": "code",
   "execution_count": 3,
   "metadata": {},
   "outputs": [],
   "source": [
    "# separating dependent and independent variables\n",
    "X_train = train_data.iloc[:, :-1]\n",
    "y_train = train_data.iloc[:, -1]"
   ]
  },
  {
   "cell_type": "code",
   "execution_count": 4,
   "metadata": {},
   "outputs": [
    {
     "data": {
      "text/plain": [
       "(384, 500)"
      ]
     },
     "execution_count": 4,
     "metadata": {},
     "output_type": "execute_result"
    }
   ],
   "source": [
    "X_train.shape"
   ]
  },
  {
   "cell_type": "code",
   "execution_count": 5,
   "metadata": {},
   "outputs": [
    {
     "data": {
      "text/plain": [
       "(384,)"
      ]
     },
     "execution_count": 5,
     "metadata": {},
     "output_type": "execute_result"
    }
   ],
   "source": [
    "y_train.shape"
   ]
  },
  {
   "cell_type": "code",
   "execution_count": 6,
   "metadata": {},
   "outputs": [],
   "source": [
    "# separating dependent and independent variables\n",
    "X_test = test_data.iloc[:, :-1]\n",
    "y_test = test_data.iloc[:, -1]"
   ]
  },
  {
   "cell_type": "code",
   "execution_count": 7,
   "metadata": {},
   "outputs": [
    {
     "data": {
      "text/plain": [
       "(96, 500)"
      ]
     },
     "execution_count": 7,
     "metadata": {},
     "output_type": "execute_result"
    }
   ],
   "source": [
    "X_test.shape"
   ]
  },
  {
   "cell_type": "code",
   "execution_count": 8,
   "metadata": {},
   "outputs": [
    {
     "data": {
      "text/plain": [
       "(96,)"
      ]
     },
     "execution_count": 8,
     "metadata": {},
     "output_type": "execute_result"
    }
   ],
   "source": [
    "y_test.shape"
   ]
  },
  {
   "cell_type": "code",
   "execution_count": 9,
   "metadata": {},
   "outputs": [
    {
     "name": "stdout",
     "output_type": "stream",
     "text": [
      "50.0\n",
      "50.0\n"
     ]
    }
   ],
   "source": [
    "def get_frequency(data_set: pd.DataFrame) -> float:\n",
    "    return (data_set != 1).values.sum()/len(data_set) * 100\n",
    "\n",
    "print(get_frequency(y_train))\n",
    "print(get_frequency(y_test))"
   ]
  },
  {
   "cell_type": "markdown",
   "metadata": {},
   "source": [
    "<h4>Training Various ML Models</h4>"
   ]
  },
  {
   "cell_type": "code",
   "execution_count": 9,
   "metadata": {},
   "outputs": [],
   "source": [
    "from sklearn.preprocessing import StandardScaler\n",
    "from sklearn.model_selection import RandomizedSearchCV\n",
    "from sklearn.metrics import classification_report, confusion_matrix"
   ]
  },
  {
   "cell_type": "code",
   "execution_count": 1,
   "metadata": {},
   "outputs": [],
   "source": [
    "from sklearn.feature_selection import SelectFromModel\n",
    "from sklearn.model_selection import cross_val_score\n",
    "from sklearn.utils._testing import ignore_warnings \n",
    "from sklearn.exceptions import ConvergenceWarning "
   ]
  },
  {
   "cell_type": "markdown",
   "metadata": {},
   "source": [
    "<h5>Logistic Regression</h5>"
   ]
  },
  {
   "cell_type": "code",
   "execution_count": 195,
   "metadata": {},
   "outputs": [
    {
     "name": "stdout",
     "output_type": "stream",
     "text": [
      "{'tol': 0.001, 'solver': 'saga', 'penalty': 'none', 'max_iter': 100, 'C': 1.0}\n",
      "0.6136116152450091\n"
     ]
    }
   ],
   "source": [
    "# logistic regression - https://stackoverflow.com/questions/38077190/how-to-increase-the-model-accuracy-of-logistic-regression-in-scikit-python\n",
    "from sklearn.linear_model import LogisticRegression\n",
    "\n",
    "lg_grid = {\n",
    "    \"penalty\" : ['none', 'l1', 'l2', 'elasticnet'],\n",
    "    # 'dual': ['True', 'False'],\n",
    "    'tol': [1e-12, 1e-11, 1e-10, 1e-9, 1e-8, 1e-7, 1e-6, 1e-5, 1e-4, 1e-3],\n",
    "    \"C\" : [100, 10, 1.0, 0.1, 0.01],\n",
    "    # 'fit_intercept': ['True', 'False'],\n",
    "    \"solver\" : ['newton-cg', 'lbfgs', 'liblinear', 'sag', 'saga'],\n",
    "    \"max_iter\": [50, 100, 500, 1000, 5000, 10000, 20000]\n",
    "}\n",
    "\n",
    "with ignore_warnings(): \n",
    "    lg_search = RandomizedSearchCV(\n",
    "        estimator = LogisticRegression(class_weight='balanced', random_state = 1), \n",
    "        param_distributions = lg_grid, \n",
    "        random_state = 1, \n",
    "        n_iter = 60,\n",
    "        return_train_score = True,\n",
    "        error_score = 0\n",
    "    )\n",
    "\n",
    "    lg_model = lg_search.fit(X_train, y_train)\n",
    "    print(lg_search.best_params_)\n",
    "    print(lg_search.best_score_)"
   ]
  },
  {
   "cell_type": "code",
   "execution_count": 11,
   "metadata": {},
   "outputs": [
    {
     "ename": "NameError",
     "evalue": "name 'lg_model' is not defined",
     "output_type": "error",
     "traceback": [
      "\u001b[0;31m---------------------------------------------------------------------------\u001b[0m",
      "\u001b[0;31mNameError\u001b[0m                                 Traceback (most recent call last)",
      "\u001b[1;32m/Users/isobarbaric/Desktop/Dev/Projects/Fake-News-Classifier/Pipeline/model_training.ipynb Cell 12\u001b[0m in \u001b[0;36m<cell line: 1>\u001b[0;34m()\u001b[0m\n\u001b[0;32m----> <a href='vscode-notebook-cell:/Users/isobarbaric/Desktop/Dev/Projects/Fake-News-Classifier/Pipeline/model_training.ipynb#X14sZmlsZQ%3D%3D?line=0'>1</a>\u001b[0m lg_pred \u001b[39m=\u001b[39m lg_model\u001b[39m.\u001b[39mpredict(X_test)\n",
      "\u001b[0;31mNameError\u001b[0m: name 'lg_model' is not defined"
     ]
    }
   ],
   "source": [
    "lg_pred = lg_model.predict(X_test)"
   ]
  },
  {
   "cell_type": "code",
   "execution_count": 190,
   "metadata": {},
   "outputs": [
    {
     "data": {
      "text/plain": [
       "True"
      ]
     },
     "execution_count": 190,
     "metadata": {},
     "output_type": "execute_result"
    }
   ],
   "source": [
    "X_test.columns.equals(X_train.columns)"
   ]
  },
  {
   "cell_type": "code",
   "execution_count": null,
   "metadata": {},
   "outputs": [],
   "source": [
    "# lg_model = SelectFromModel(lg_result.best_estimator_, prefit=True)\n",
    "# lg_model.transform(X_train)"
   ]
  },
  {
   "cell_type": "code",
   "execution_count": null,
   "metadata": {},
   "outputs": [
    {
     "name": "stdout",
     "output_type": "stream",
     "text": [
      "              precision    recall  f1-score   support\n",
      "\n",
      "         0.0       0.75      0.56      0.64        48\n",
      "         1.0       0.43      0.64      0.52        25\n",
      "\n",
      "    accuracy                           0.59        73\n",
      "   macro avg       0.59      0.60      0.58        73\n",
      "weighted avg       0.64      0.59      0.60        73\n",
      "\n"
     ]
    }
   ],
   "source": [
    "print(classification_report(lg_pred, y_test))"
   ]
  },
  {
   "cell_type": "markdown",
   "metadata": {},
   "source": [
    "<h5>Linear Discriminant Analysis</h5>"
   ]
  },
  {
   "cell_type": "code",
   "execution_count": 199,
   "metadata": {},
   "outputs": [],
   "source": [
    "# linear discriminant analysis\n",
    "from sklearn.discriminant_analysis import LinearDiscriminantAnalysis\n",
    "\n",
    "lda_grid = {\n",
    "    \"solver\": ['svd', 'lsqr', 'eigen'],\n",
    "    \"shrinkage\": ['auto', 'float']\n",
    "}\n",
    "\n",
    "with ignore_warnings():\n",
    "    lda_search = RandomizedSearchCV(\n",
    "        estimator = LogisticRegression(random_state = 1), \n",
    "        param_distributions = lg_grid, \n",
    "        return_train_score = True, \n",
    "        random_state = 1, \n",
    "        n_iter = 60\n",
    "    )\n",
    "\n",
    "    lda_model = lda_search.fit(X_train, y_train)\n",
    "    print(lda_model.best_params_)\n",
    "    print(lda_model.best_score_)"
   ]
  },
  {
   "cell_type": "code",
   "execution_count": null,
   "metadata": {},
   "outputs": [],
   "source": [
    "lda_pred = lda_model.predict(X_test)"
   ]
  },
  {
   "cell_type": "code",
   "execution_count": null,
   "metadata": {},
   "outputs": [
    {
     "name": "stdout",
     "output_type": "stream",
     "text": [
      "              precision    recall  f1-score   support\n",
      "\n",
      "         0.0       0.69      0.52      0.60        48\n",
      "         1.0       0.38      0.56      0.45        25\n",
      "\n",
      "    accuracy                           0.53        73\n",
      "   macro avg       0.54      0.54      0.52        73\n",
      "weighted avg       0.59      0.53      0.55        73\n",
      "\n"
     ]
    }
   ],
   "source": [
    "print(classification_report(lda_pred, y_test))"
   ]
  },
  {
   "cell_type": "markdown",
   "metadata": {},
   "source": [
    "<h5>K-Nearest Neighbors</h5>"
   ]
  },
  {
   "cell_type": "code",
   "execution_count": 2,
   "metadata": {},
   "outputs": [
    {
     "ename": "NameError",
     "evalue": "name 'ignore_warnings' is not defined",
     "output_type": "error",
     "traceback": [
      "\u001b[0;31m---------------------------------------------------------------------------\u001b[0m",
      "\u001b[0;31mNameError\u001b[0m                                 Traceback (most recent call last)",
      "\u001b[1;32m/Users/isobarbaric/Desktop/Dev/Projects/Fake-News-Classifier/Pipeline/model_training.ipynb Cell 19\u001b[0m in \u001b[0;36m<cell line: 9>\u001b[0;34m()\u001b[0m\n\u001b[1;32m      <a href='vscode-notebook-cell:/Users/isobarbaric/Desktop/Dev/Projects/Fake-News-Classifier/Pipeline/model_training.ipynb#X24sZmlsZQ%3D%3D?line=2'>3</a>\u001b[0m \u001b[39m# knn_model = KNeighborsClassifier(n_neighbors=15)\u001b[39;00m\n\u001b[1;32m      <a href='vscode-notebook-cell:/Users/isobarbaric/Desktop/Dev/Projects/Fake-News-Classifier/Pipeline/model_training.ipynb#X24sZmlsZQ%3D%3D?line=4'>5</a>\u001b[0m knn_grid \u001b[39m=\u001b[39m {\n\u001b[1;32m      <a href='vscode-notebook-cell:/Users/isobarbaric/Desktop/Dev/Projects/Fake-News-Classifier/Pipeline/model_training.ipynb#X24sZmlsZQ%3D%3D?line=5'>6</a>\u001b[0m     \n\u001b[1;32m      <a href='vscode-notebook-cell:/Users/isobarbaric/Desktop/Dev/Projects/Fake-News-Classifier/Pipeline/model_training.ipynb#X24sZmlsZQ%3D%3D?line=6'>7</a>\u001b[0m }\n\u001b[0;32m----> <a href='vscode-notebook-cell:/Users/isobarbaric/Desktop/Dev/Projects/Fake-News-Classifier/Pipeline/model_training.ipynb#X24sZmlsZQ%3D%3D?line=8'>9</a>\u001b[0m \u001b[39mwith\u001b[39;00m ignore_warnings():    \n\u001b[1;32m     <a href='vscode-notebook-cell:/Users/isobarbaric/Desktop/Dev/Projects/Fake-News-Classifier/Pipeline/model_training.ipynb#X24sZmlsZQ%3D%3D?line=9'>10</a>\u001b[0m     knn_model\u001b[39m.\u001b[39mfit(X_train, y_train)\n\u001b[1;32m     <a href='vscode-notebook-cell:/Users/isobarbaric/Desktop/Dev/Projects/Fake-News-Classifier/Pipeline/model_training.ipynb#X24sZmlsZQ%3D%3D?line=10'>11</a>\u001b[0m     knn_pred \u001b[39m=\u001b[39m knn_model\u001b[39m.\u001b[39mpredict(X_test)\n",
      "\u001b[0;31mNameError\u001b[0m: name 'ignore_warnings' is not defined"
     ]
    }
   ],
   "source": [
    "# k-nearest neighbors\n",
    "from sklearn.neighbors import KNeighborsClassifier\n",
    "# knn_model = KNeighborsClassifier(n_neighbors=15)\n",
    "\n",
    "knn_grid = {\n",
    "    \n",
    "}\n",
    "\n",
    "with ignore_warnings():    \n",
    "    knn_model.fit(X_train, y_train)\n",
    "    knn_pred = knn_model.predict(X_test)"
   ]
  },
  {
   "cell_type": "code",
   "execution_count": null,
   "metadata": {},
   "outputs": [
    {
     "name": "stdout",
     "output_type": "stream",
     "text": [
      "              precision    recall  f1-score   support\n",
      "\n",
      "         0.0       0.42      0.47      0.44        32\n",
      "         1.0       0.54      0.49      0.51        41\n",
      "\n",
      "    accuracy                           0.48        73\n",
      "   macro avg       0.48      0.48      0.48        73\n",
      "weighted avg       0.49      0.48      0.48        73\n",
      "\n"
     ]
    }
   ],
   "source": [
    "print(classification_report(knn_pred, y_test))"
   ]
  },
  {
   "cell_type": "markdown",
   "metadata": {},
   "source": [
    "<h5>Naive Bayes</h5>"
   ]
  },
  {
   "cell_type": "code",
   "execution_count": null,
   "metadata": {},
   "outputs": [
    {
     "name": "stderr",
     "output_type": "stream",
     "text": [
      "/Users/isobarbaric/miniforge3/lib/python3.9/site-packages/sklearn/model_selection/_search.py:306: UserWarning: The total space of parameters 8 is smaller than n_iter=50. Running 8 iterations. For exhaustive searches, use GridSearchCV.\n",
      "  warnings.warn(\n"
     ]
    }
   ],
   "source": [
    "# naive-bayes\n",
    "from sklearn.naive_bayes import GaussianNB\n",
    "\n",
    "nb_grid = {\n",
    "    \"var_smoothing\": [1e-12, 1e-11, 1e-10, 1e-9, 1e-8, 1e-7, 1e-6, 1e-5]\n",
    "}\n",
    "\n",
    "nb_search = RandomizedSearchCV(estimator=GaussianNB(), param_distributions=nb_grid, return_train_score=True, random_state=1, n_jobs=-1, n_iter=50)\n",
    "nb_result = nb_search.fit(X_train, y_train)\n",
    "nb_pred = nb_result.predict(X_test)"
   ]
  },
  {
   "cell_type": "code",
   "execution_count": null,
   "metadata": {},
   "outputs": [
    {
     "name": "stdout",
     "output_type": "stream",
     "text": [
      "              precision    recall  f1-score   support\n",
      "\n",
      "         0.0       0.83      0.49      0.62        61\n",
      "         1.0       0.16      0.50      0.24        12\n",
      "\n",
      "    accuracy                           0.49        73\n",
      "   macro avg       0.50      0.50      0.43        73\n",
      "weighted avg       0.72      0.49      0.56        73\n",
      "\n"
     ]
    }
   ],
   "source": [
    "print(classification_report(nb_pred, y_test))"
   ]
  },
  {
   "cell_type": "markdown",
   "metadata": {},
   "source": [
    "<h5>Decision Tree Classifier</h5>"
   ]
  },
  {
   "cell_type": "code",
   "execution_count": null,
   "metadata": {},
   "outputs": [
    {
     "name": "stderr",
     "output_type": "stream",
     "text": [
      "/Users/isobarbaric/miniforge3/lib/python3.9/site-packages/sklearn/tree/_classes.py:298: FutureWarning: `max_features='auto'` has been deprecated in 1.1 and will be removed in 1.3. To keep the past behaviour, explicitly set `max_features='sqrt'`.\n",
      "  warnings.warn(\n",
      "/Users/isobarbaric/miniforge3/lib/python3.9/site-packages/sklearn/tree/_classes.py:298: FutureWarning: `max_features='auto'` has been deprecated in 1.1 and will be removed in 1.3. To keep the past behaviour, explicitly set `max_features='sqrt'`.\n",
      "  warnings.warn(\n",
      "/Users/isobarbaric/miniforge3/lib/python3.9/site-packages/sklearn/tree/_classes.py:298: FutureWarning: `max_features='auto'` has been deprecated in 1.1 and will be removed in 1.3. To keep the past behaviour, explicitly set `max_features='sqrt'`.\n",
      "  warnings.warn(\n",
      "/Users/isobarbaric/miniforge3/lib/python3.9/site-packages/sklearn/tree/_classes.py:298: FutureWarning: `max_features='auto'` has been deprecated in 1.1 and will be removed in 1.3. To keep the past behaviour, explicitly set `max_features='sqrt'`.\n",
      "  warnings.warn(\n",
      "/Users/isobarbaric/miniforge3/lib/python3.9/site-packages/sklearn/tree/_classes.py:298: FutureWarning: `max_features='auto'` has been deprecated in 1.1 and will be removed in 1.3. To keep the past behaviour, explicitly set `max_features='sqrt'`.\n",
      "  warnings.warn(\n",
      "/Users/isobarbaric/miniforge3/lib/python3.9/site-packages/sklearn/tree/_classes.py:298: FutureWarning: `max_features='auto'` has been deprecated in 1.1 and will be removed in 1.3. To keep the past behaviour, explicitly set `max_features='sqrt'`.\n",
      "  warnings.warn(\n",
      "/Users/isobarbaric/miniforge3/lib/python3.9/site-packages/sklearn/tree/_classes.py:298: FutureWarning: `max_features='auto'` has been deprecated in 1.1 and will be removed in 1.3. To keep the past behaviour, explicitly set `max_features='sqrt'`.\n",
      "  warnings.warn(\n",
      "/Users/isobarbaric/miniforge3/lib/python3.9/site-packages/sklearn/tree/_classes.py:298: FutureWarning: `max_features='auto'` has been deprecated in 1.1 and will be removed in 1.3. To keep the past behaviour, explicitly set `max_features='sqrt'`.\n",
      "  warnings.warn(\n",
      "/Users/isobarbaric/miniforge3/lib/python3.9/site-packages/sklearn/tree/_classes.py:298: FutureWarning: `max_features='auto'` has been deprecated in 1.1 and will be removed in 1.3. To keep the past behaviour, explicitly set `max_features='sqrt'`.\n",
      "  warnings.warn(\n",
      "/Users/isobarbaric/miniforge3/lib/python3.9/site-packages/sklearn/tree/_classes.py:298: FutureWarning: `max_features='auto'` has been deprecated in 1.1 and will be removed in 1.3. To keep the past behaviour, explicitly set `max_features='sqrt'`.\n",
      "  warnings.warn(\n",
      "/Users/isobarbaric/miniforge3/lib/python3.9/site-packages/sklearn/tree/_classes.py:298: FutureWarning: `max_features='auto'` has been deprecated in 1.1 and will be removed in 1.3. To keep the past behaviour, explicitly set `max_features='sqrt'`.\n",
      "  warnings.warn(\n",
      "/Users/isobarbaric/miniforge3/lib/python3.9/site-packages/sklearn/tree/_classes.py:298: FutureWarning: `max_features='auto'` has been deprecated in 1.1 and will be removed in 1.3. To keep the past behaviour, explicitly set `max_features='sqrt'`.\n",
      "  warnings.warn(\n",
      "/Users/isobarbaric/miniforge3/lib/python3.9/site-packages/sklearn/tree/_classes.py:298: FutureWarning: `max_features='auto'` has been deprecated in 1.1 and will be removed in 1.3. To keep the past behaviour, explicitly set `max_features='sqrt'`.\n",
      "  warnings.warn(\n",
      "/Users/isobarbaric/miniforge3/lib/python3.9/site-packages/sklearn/tree/_classes.py:298: FutureWarning: `max_features='auto'` has been deprecated in 1.1 and will be removed in 1.3. To keep the past behaviour, explicitly set `max_features='sqrt'`.\n",
      "  warnings.warn(\n",
      "/Users/isobarbaric/miniforge3/lib/python3.9/site-packages/sklearn/tree/_classes.py:298: FutureWarning: `max_features='auto'` has been deprecated in 1.1 and will be removed in 1.3. To keep the past behaviour, explicitly set `max_features='sqrt'`.\n",
      "  warnings.warn(\n",
      "/Users/isobarbaric/miniforge3/lib/python3.9/site-packages/sklearn/tree/_classes.py:298: FutureWarning: `max_features='auto'` has been deprecated in 1.1 and will be removed in 1.3. To keep the past behaviour, explicitly set `max_features='sqrt'`.\n",
      "  warnings.warn(\n",
      "/Users/isobarbaric/miniforge3/lib/python3.9/site-packages/sklearn/tree/_classes.py:298: FutureWarning: `max_features='auto'` has been deprecated in 1.1 and will be removed in 1.3. To keep the past behaviour, explicitly set `max_features='sqrt'`.\n",
      "  warnings.warn(\n",
      "/Users/isobarbaric/miniforge3/lib/python3.9/site-packages/sklearn/tree/_classes.py:298: FutureWarning: `max_features='auto'` has been deprecated in 1.1 and will be removed in 1.3. To keep the past behaviour, explicitly set `max_features='sqrt'`.\n",
      "  warnings.warn(\n",
      "/Users/isobarbaric/miniforge3/lib/python3.9/site-packages/sklearn/tree/_classes.py:298: FutureWarning: `max_features='auto'` has been deprecated in 1.1 and will be removed in 1.3. To keep the past behaviour, explicitly set `max_features='sqrt'`.\n",
      "  warnings.warn(\n",
      "/Users/isobarbaric/miniforge3/lib/python3.9/site-packages/sklearn/tree/_classes.py:298: FutureWarning: `max_features='auto'` has been deprecated in 1.1 and will be removed in 1.3. To keep the past behaviour, explicitly set `max_features='sqrt'`.\n",
      "  warnings.warn(\n",
      "/Users/isobarbaric/miniforge3/lib/python3.9/site-packages/sklearn/tree/_classes.py:298: FutureWarning: `max_features='auto'` has been deprecated in 1.1 and will be removed in 1.3. To keep the past behaviour, explicitly set `max_features='sqrt'`.\n",
      "  warnings.warn(\n",
      "/Users/isobarbaric/miniforge3/lib/python3.9/site-packages/sklearn/tree/_classes.py:298: FutureWarning: `max_features='auto'` has been deprecated in 1.1 and will be removed in 1.3. To keep the past behaviour, explicitly set `max_features='sqrt'`.\n",
      "  warnings.warn(\n",
      "/Users/isobarbaric/miniforge3/lib/python3.9/site-packages/sklearn/tree/_classes.py:298: FutureWarning: `max_features='auto'` has been deprecated in 1.1 and will be removed in 1.3. To keep the past behaviour, explicitly set `max_features='sqrt'`.\n",
      "  warnings.warn(\n",
      "/Users/isobarbaric/miniforge3/lib/python3.9/site-packages/sklearn/tree/_classes.py:298: FutureWarning: `max_features='auto'` has been deprecated in 1.1 and will be removed in 1.3. To keep the past behaviour, explicitly set `max_features='sqrt'`.\n",
      "  warnings.warn(\n",
      "/Users/isobarbaric/miniforge3/lib/python3.9/site-packages/sklearn/tree/_classes.py:298: FutureWarning: `max_features='auto'` has been deprecated in 1.1 and will be removed in 1.3. To keep the past behaviour, explicitly set `max_features='sqrt'`.\n",
      "  warnings.warn(\n",
      "/Users/isobarbaric/miniforge3/lib/python3.9/site-packages/sklearn/tree/_classes.py:298: FutureWarning: `max_features='auto'` has been deprecated in 1.1 and will be removed in 1.3. To keep the past behaviour, explicitly set `max_features='sqrt'`.\n",
      "  warnings.warn(\n",
      "/Users/isobarbaric/miniforge3/lib/python3.9/site-packages/sklearn/tree/_classes.py:298: FutureWarning: `max_features='auto'` has been deprecated in 1.1 and will be removed in 1.3. To keep the past behaviour, explicitly set `max_features='sqrt'`.\n",
      "  warnings.warn(\n",
      "/Users/isobarbaric/miniforge3/lib/python3.9/site-packages/sklearn/tree/_classes.py:298: FutureWarning: `max_features='auto'` has been deprecated in 1.1 and will be removed in 1.3. To keep the past behaviour, explicitly set `max_features='sqrt'`.\n",
      "  warnings.warn(\n",
      "/Users/isobarbaric/miniforge3/lib/python3.9/site-packages/sklearn/tree/_classes.py:298: FutureWarning: `max_features='auto'` has been deprecated in 1.1 and will be removed in 1.3. To keep the past behaviour, explicitly set `max_features='sqrt'`.\n",
      "  warnings.warn(\n",
      "/Users/isobarbaric/miniforge3/lib/python3.9/site-packages/sklearn/tree/_classes.py:298: FutureWarning: `max_features='auto'` has been deprecated in 1.1 and will be removed in 1.3. To keep the past behaviour, explicitly set `max_features='sqrt'`.\n",
      "  warnings.warn(\n",
      "/Users/isobarbaric/miniforge3/lib/python3.9/site-packages/sklearn/tree/_classes.py:298: FutureWarning: `max_features='auto'` has been deprecated in 1.1 and will be removed in 1.3. To keep the past behaviour, explicitly set `max_features='sqrt'`.\n",
      "  warnings.warn(\n",
      "/Users/isobarbaric/miniforge3/lib/python3.9/site-packages/sklearn/tree/_classes.py:298: FutureWarning: `max_features='auto'` has been deprecated in 1.1 and will be removed in 1.3. To keep the past behaviour, explicitly set `max_features='sqrt'`.\n",
      "  warnings.warn(\n",
      "/Users/isobarbaric/miniforge3/lib/python3.9/site-packages/sklearn/tree/_classes.py:298: FutureWarning: `max_features='auto'` has been deprecated in 1.1 and will be removed in 1.3. To keep the past behaviour, explicitly set `max_features='sqrt'`.\n",
      "  warnings.warn(\n",
      "/Users/isobarbaric/miniforge3/lib/python3.9/site-packages/sklearn/tree/_classes.py:298: FutureWarning: `max_features='auto'` has been deprecated in 1.1 and will be removed in 1.3. To keep the past behaviour, explicitly set `max_features='sqrt'`.\n",
      "  warnings.warn(\n",
      "/Users/isobarbaric/miniforge3/lib/python3.9/site-packages/sklearn/tree/_classes.py:298: FutureWarning: `max_features='auto'` has been deprecated in 1.1 and will be removed in 1.3. To keep the past behaviour, explicitly set `max_features='sqrt'`.\n",
      "  warnings.warn(\n",
      "/Users/isobarbaric/miniforge3/lib/python3.9/site-packages/sklearn/tree/_classes.py:298: FutureWarning: `max_features='auto'` has been deprecated in 1.1 and will be removed in 1.3. To keep the past behaviour, explicitly set `max_features='sqrt'`.\n",
      "  warnings.warn(\n",
      "/Users/isobarbaric/miniforge3/lib/python3.9/site-packages/sklearn/tree/_classes.py:298: FutureWarning: `max_features='auto'` has been deprecated in 1.1 and will be removed in 1.3. To keep the past behaviour, explicitly set `max_features='sqrt'`.\n",
      "  warnings.warn(\n",
      "/Users/isobarbaric/miniforge3/lib/python3.9/site-packages/sklearn/tree/_classes.py:298: FutureWarning: `max_features='auto'` has been deprecated in 1.1 and will be removed in 1.3. To keep the past behaviour, explicitly set `max_features='sqrt'`.\n",
      "  warnings.warn(\n",
      "/Users/isobarbaric/miniforge3/lib/python3.9/site-packages/sklearn/tree/_classes.py:298: FutureWarning: `max_features='auto'` has been deprecated in 1.1 and will be removed in 1.3. To keep the past behaviour, explicitly set `max_features='sqrt'`.\n",
      "  warnings.warn(\n",
      "/Users/isobarbaric/miniforge3/lib/python3.9/site-packages/sklearn/tree/_classes.py:298: FutureWarning: `max_features='auto'` has been deprecated in 1.1 and will be removed in 1.3. To keep the past behaviour, explicitly set `max_features='sqrt'`.\n",
      "  warnings.warn(\n"
     ]
    }
   ],
   "source": [
    "# decision tree\n",
    "from sklearn.tree import DecisionTreeClassifier\n",
    "\n",
    "grid = {\n",
    "    \"criterion\" : ['gini', 'entropy', 'log_loss'],\n",
    "    \"splitter\": ['best', 'random'],\n",
    "    \"max_depth\" : [5, 10, 25, 50, 100, 500],\n",
    "    \"max_features\" : ['auto', 'sqrt', 'log2'] \n",
    "}\n",
    "\n",
    "dt_search = RandomizedSearchCV(estimator=DecisionTreeClassifier(random_state=1), param_distributions=grid, return_train_score=True, random_state=1, n_jobs=-1, n_iter=25)\n",
    "dt_result = dt_search.fit(X_train, y_train)\n",
    "dt_pred = dt_result.predict(X_test)"
   ]
  },
  {
   "cell_type": "code",
   "execution_count": null,
   "metadata": {},
   "outputs": [
    {
     "name": "stdout",
     "output_type": "stream",
     "text": [
      "              precision    recall  f1-score   support\n",
      "\n",
      "         0.0       0.69      0.60      0.64        42\n",
      "         1.0       0.54      0.65      0.59        31\n",
      "\n",
      "    accuracy                           0.62        73\n",
      "   macro avg       0.62      0.62      0.61        73\n",
      "weighted avg       0.63      0.62      0.62        73\n",
      "\n"
     ]
    }
   ],
   "source": [
    "print(classification_report(dt_pred, y_test))"
   ]
  },
  {
   "cell_type": "markdown",
   "metadata": {},
   "source": [
    "<h5>Support Vector Machine</h5>"
   ]
  },
  {
   "cell_type": "code",
   "execution_count": null,
   "metadata": {},
   "outputs": [
    {
     "name": "stderr",
     "output_type": "stream",
     "text": [
      "/Users/isobarbaric/miniforge3/lib/python3.9/site-packages/sklearn/model_selection/_validation.py:378: FitFailedWarning: \n",
      "75 fits failed out of a total of 125.\n",
      "The score on these train-test partitions for these parameters will be set to nan.\n",
      "If these failures are not expected, you can try to debug them by setting error_score='raise'.\n",
      "\n",
      "Below are more details about the failures:\n",
      "--------------------------------------------------------------------------------\n",
      "55 fits failed with the following error:\n",
      "Traceback (most recent call last):\n",
      "  File \"/Users/isobarbaric/miniforge3/lib/python3.9/site-packages/sklearn/model_selection/_validation.py\", line 686, in _fit_and_score\n",
      "    estimator.fit(X_train, y_train, **fit_params)\n",
      "  File \"/Users/isobarbaric/miniforge3/lib/python3.9/site-packages/sklearn/svm/_base.py\", line 251, in fit\n",
      "    fit(X, y, sample_weight, solver_type, kernel, random_seed=seed)\n",
      "  File \"/Users/isobarbaric/miniforge3/lib/python3.9/site-packages/sklearn/svm/_base.py\", line 333, in _dense_fit\n",
      "    ) = libsvm.fit(\n",
      "  File \"sklearn/svm/_libsvm.pyx\", line 176, in sklearn.svm._libsvm.fit\n",
      "ValueError: 'gaussian' is not in list\n",
      "\n",
      "--------------------------------------------------------------------------------\n",
      "20 fits failed with the following error:\n",
      "Traceback (most recent call last):\n",
      "  File \"/Users/isobarbaric/miniforge3/lib/python3.9/site-packages/sklearn/model_selection/_validation.py\", line 686, in _fit_and_score\n",
      "    estimator.fit(X_train, y_train, **fit_params)\n",
      "  File \"/Users/isobarbaric/miniforge3/lib/python3.9/site-packages/sklearn/svm/_base.py\", line 251, in fit\n",
      "    fit(X, y, sample_weight, solver_type, kernel, random_seed=seed)\n",
      "  File \"/Users/isobarbaric/miniforge3/lib/python3.9/site-packages/sklearn/svm/_base.py\", line 333, in _dense_fit\n",
      "    ) = libsvm.fit(\n",
      "  File \"sklearn/svm/_libsvm.pyx\", line 176, in sklearn.svm._libsvm.fit\n",
      "ValueError: 'polynomial' is not in list\n",
      "\n",
      "  warnings.warn(some_fits_failed_message, FitFailedWarning)\n",
      "/Users/isobarbaric/miniforge3/lib/python3.9/site-packages/sklearn/model_selection/_search.py:953: UserWarning: One or more of the test scores are non-finite: [       nan        nan 0.56436782        nan 0.54337568        nan\n",
      "        nan        nan 0.52595281        nan        nan        nan\n",
      " 0.52595281 0.54688445        nan        nan 0.54688445 0.5676951\n",
      " 0.56436782 0.54688445        nan        nan 0.52595281        nan\n",
      "        nan]\n",
      "  warnings.warn(\n",
      "/Users/isobarbaric/miniforge3/lib/python3.9/site-packages/sklearn/model_selection/_search.py:953: UserWarning: One or more of the train scores are non-finite: [       nan        nan 0.69510917        nan 0.73428897        nan\n",
      "        nan        nan 0.64546421        nan        nan        nan\n",
      " 0.64546421 0.74126068        nan        nan 0.74126068 0.72908297\n",
      " 0.69510917 0.74126068        nan        nan 0.64546421        nan\n",
      "        nan]\n",
      "  warnings.warn(\n"
     ]
    }
   ],
   "source": [
    "from sklearn.svm import SVC\n",
    "\n",
    "grid = {\n",
    "    \"kernel\" : ['polynomial', 'gaussian', 'linear'],\n",
    "    \"C\" : [100, 10, 1.0, 0.1, 0.01],\n",
    "    \"gamma\": ['scale', 'auto'],\n",
    "    \"degree\": [2, 3, 4, 5, 6],\n",
    "    \"shrinking\": [True, False]\n",
    "}\n",
    "\n",
    "svc_search = RandomizedSearchCV(estimator=SVC(random_state=1), param_distributions=grid, return_train_score=True, random_state=1, n_jobs=-1, n_iter=25)\n",
    "svc_result = svc_search.fit(X_train, y_train)\n",
    "svc_pred = svc_result.predict(X_test)"
   ]
  },
  {
   "cell_type": "code",
   "execution_count": null,
   "metadata": {},
   "outputs": [
    {
     "name": "stdout",
     "output_type": "stream",
     "text": [
      "              precision    recall  f1-score   support\n",
      "\n",
      "         0.0       0.69      0.52      0.60        48\n",
      "         1.0       0.38      0.56      0.45        25\n",
      "\n",
      "    accuracy                           0.53        73\n",
      "   macro avg       0.54      0.54      0.52        73\n",
      "weighted avg       0.59      0.53      0.55        73\n",
      "\n"
     ]
    }
   ],
   "source": [
    "print(classification_report(svc_pred, y_test))"
   ]
  },
  {
   "cell_type": "markdown",
   "metadata": {},
   "source": [
    "<h4>Tabulating the Results of the Training</h4>"
   ]
  },
  {
   "cell_type": "code",
   "execution_count": null,
   "metadata": {},
   "outputs": [],
   "source": [
    "from sklearn.metrics import classification_report, confusion_matrix"
   ]
  },
  {
   "cell_type": "markdown",
   "metadata": {},
   "source": [
    "<style>\n",
    "  .center {\n",
    "    display: block;\n",
    "    margin-left: auto;\n",
    "    margin-right: auto;\n",
    "  }\n",
    "</style>\n",
    "<img src=\"https://miro.medium.com/max/1838/1*fxiTNIgOyvAombPJx5KGeA.png\"  height=\"300\" class='center'/>"
   ]
  },
  {
   "cell_type": "code",
   "execution_count": null,
   "metadata": {},
   "outputs": [],
   "source": [
    "columns = index = ['scientific', 'conspiracy']"
   ]
  },
  {
   "cell_type": "code",
   "execution_count": null,
   "metadata": {},
   "outputs": [],
   "source": [
    "import numpy as np\n",
    "\n",
    "def get_classification_report_html(model_predictions: np.array):\n",
    "    report = classification_report(y_test, model_predictions, output_dict=True)\n",
    "    df = pd.DataFrame(report).transpose()\n",
    "    return df.to_html()\n",
    "\n",
    "def get_confusion_matrix_html(model_predictions: np.array):\n",
    "    return pd.DataFrame(confusion_matrix(y_test, model_predictions), index=index, columns=columns).to_html()"
   ]
  },
  {
   "cell_type": "markdown",
   "metadata": {},
   "source": [
    "prediction content starts here - move to a different file"
   ]
  },
  {
   "cell_type": "code",
   "execution_count": 15,
   "metadata": {},
   "outputs": [],
   "source": [
    "import json\n",
    "from bag_of_words import BagOfWords\n",
    "import pandas as pd\n",
    "\n",
    "def build_predict_dataframe(test_content):\n",
    "    with open('../Data/model/relevant_words.json') as f:\n",
    "        relevant_words = json.loads(f.read())\n",
    "\n",
    "    current_test = BagOfWords(test_content, None)\n",
    "\n",
    "    cols = {}\n",
    "    for word in relevant_words:\n",
    "        cols[word] = [current_test.freq_chart[word] if word in current_test.freq_chart else 0]\n",
    "\n",
    "    data_set = pd.DataFrame(data = cols)\n",
    "\n",
    "    return data_set"
   ]
  },
  {
   "cell_type": "code",
   "execution_count": 16,
   "metadata": {},
   "outputs": [],
   "source": [
    "s = \"Jacob Puliyel, MD, a pediatrician in India for more than 40 years, brought suit in the Supreme Court of India against the Union of India and COVID-19 vaccine manufacturers in a legal challenge to the country\\u2019s COVID vaccine program.1 Dr. Puliyel, who has served as Director of Research and Projects at Holy Family Hospital in Delhi and is a former member of the National Technical Advisory Group (NTAG) on immunizations in India, sued the government and COVID vaccine manufacturers seeking release of information related to the COVID vaccine approval process, as well as arguing for a policy change that allows unvaccinated persons to enter public spaces and access resources.\\n\\nSpecifically, Dr. Puliyel asked the Supreme Court of India for the release of each phase of clinical trial data for the COVID vaccines administered in India; disclosure of minutes from the meeting of the Subject Expert Committee and the NTGAI with regard to vaccines; release of information surrounding the approval or rejection of emergency use applications of vaccines by the Drugs Controller General of India (DCGI); and disclosure of post vaccination data related to COVID.\""
   ]
  },
  {
   "cell_type": "code",
   "execution_count": 17,
   "metadata": {},
   "outputs": [],
   "source": [
    "p_mat = build_predict_dataframe(s)"
   ]
  },
  {
   "cell_type": "code",
   "execution_count": 18,
   "metadata": {},
   "outputs": [
    {
     "data": {
      "text/plain": [
       "array([0, 1, 2, 7])"
      ]
     },
     "execution_count": 18,
     "metadata": {},
     "output_type": "execute_result"
    }
   ],
   "source": [
    "p_mat.loc[0].unique()"
   ]
  },
  {
   "cell_type": "code",
   "execution_count": 19,
   "metadata": {},
   "outputs": [
    {
     "data": {
      "text/plain": [
       "500"
      ]
     },
     "execution_count": 19,
     "metadata": {},
     "output_type": "execute_result"
    }
   ],
   "source": [
    "len(p_mat.columns)"
   ]
  },
  {
   "cell_type": "code",
   "execution_count": 20,
   "metadata": {},
   "outputs": [
    {
     "ename": "NameError",
     "evalue": "name 'lg_result' is not defined",
     "output_type": "error",
     "traceback": [
      "\u001b[0;31m---------------------------------------------------------------------------\u001b[0m",
      "\u001b[0;31mNameError\u001b[0m                                 Traceback (most recent call last)",
      "\u001b[1;32m/Users/isobarbaric/Desktop/Dev/Research/Science:Conspiracy Classifier/Fake-News-Classifier/Pipeline/model_training.ipynb Cell 47\u001b[0m in \u001b[0;36m<cell line: 1>\u001b[0;34m()\u001b[0m\n\u001b[0;32m----> <a href='vscode-notebook-cell:/Users/isobarbaric/Desktop/Dev/Research/Science%3AConspiracy%20Classifier/Fake-News-Classifier/Pipeline/model_training.ipynb#X54sZmlsZQ%3D%3D?line=0'>1</a>\u001b[0m lg_result\u001b[39m.\u001b[39mpredict(p_mat)\n",
      "\u001b[0;31mNameError\u001b[0m: name 'lg_result' is not defined"
     ]
    }
   ],
   "source": [
    "lg_result.predict(p_mat)"
   ]
  },
  {
   "cell_type": "code",
   "execution_count": null,
   "metadata": {},
   "outputs": [
    {
     "data": {
      "text/plain": [
       "array([[9.99999699e-01, 3.00619551e-07]])"
      ]
     },
     "execution_count": 102,
     "metadata": {},
     "output_type": "execute_result"
    }
   ],
   "source": [
    "nb_result.predict_proba(p_mat)"
   ]
  },
  {
   "cell_type": "code",
   "execution_count": null,
   "metadata": {},
   "outputs": [
    {
     "name": "stdout",
     "output_type": "stream",
     "text": [
      "lg\n",
      "lda\n",
      "knn\n",
      "\n"
     ]
    }
   ],
   "source": [
    "for model in ['lg', 'lda', 'knn', '']:\n",
    "    print(model)"
   ]
  },
  {
   "cell_type": "markdown",
   "metadata": {},
   "source": [
    "results"
   ]
  },
  {
   "cell_type": "markdown",
   "metadata": {},
   "source": [
    "<table>\n",
    "    <thead>\n",
    "        <tr>\n",
    "            <th></th>\n",
    "            <th rowspan=\"2\">Confusion Matrix</th>\n",
    "            <th rowspan=\"2\">Classification Report</th>\n",
    "        </tr>\n",
    "    </thead>\n",
    "    <tbody>\n",
    "        <tr>\n",
    "            <th>Logistic Regression</th>\n",
    "            <td>\n",
    "                <table border=\"1\" class=\"dataframe\">\n",
    "                    <thead>\n",
    "                        <tr style=\"text-align: right;\">\n",
    "                        <th></th>\n",
    "                        <th>positive</th>\n",
    "                        <th>negative</th>\n",
    "                        </tr>\n",
    "                    </thead>\n",
    "                    <tbody>\n",
    "                        <tr>\n",
    "                        <th>positive</th>\n",
    "                        <td>34</td>\n",
    "                        <td>18</td>\n",
    "                        </tr>\n",
    "                        <tr>\n",
    "                        <th>negative</th>\n",
    "                        <td>5</td>\n",
    "                        <td>47</td>\n",
    "                        </tr>\n",
    "                    </tbody>\n",
    "                </table>\n",
    "            </td>\n",
    "            <td>\n",
    "                <table border=\"1\" class=\"dataframe\">\n",
    "                    <thead>\n",
    "                        <tr style=\"text-align: right;\">\n",
    "                        <th></th>\n",
    "                        <th>precision</th>\n",
    "                        <th>recall</th>\n",
    "                        <th>f1-score</th>\n",
    "                        <th>support</th>\n",
    "                        </tr>\n",
    "                    </thead>\n",
    "                    <tbody>\n",
    "                        <tr>\n",
    "                        <th>0.0</th>\n",
    "                        <td>0.871795</td>\n",
    "                        <td>0.653846</td>\n",
    "                        <td>0.747253</td>\n",
    "                        <td>52.000000</td>\n",
    "                        </tr>\n",
    "                        <tr>\n",
    "                        <th>1.0</th>\n",
    "                        <td>0.723077</td>\n",
    "                        <td>0.903846</td>\n",
    "                        <td>0.803419</td>\n",
    "                        <td>52.000000</td>\n",
    "                        </tr>\n",
    "                        <tr>\n",
    "                        <th>accuracy</th>\n",
    "                        <td>0.778846</td>\n",
    "                        <td>0.778846</td>\n",
    "                        <td>0.778846</td>\n",
    "                        <td>0.778846</td>\n",
    "                        </tr>\n",
    "                        <tr>\n",
    "                        <th>macro avg</th>\n",
    "                        <td>0.797436</td>\n",
    "                        <td>0.778846</td>\n",
    "                        <td>0.775336</td>\n",
    "                        <td>104.000000</td>\n",
    "                        </tr>\n",
    "                        <tr>\n",
    "                        <th>weighted avg</th>\n",
    "                        <td>0.797436</td>\n",
    "                        <td>0.778846</td>\n",
    "                        <td>0.775336</td>\n",
    "                        <td>104.000000</td>\n",
    "                        </tr>\n",
    "                    </tbody>\n",
    "                </table>            \n",
    "            </td>\n",
    "        </tr>\n",
    "        <tr>\n",
    "            <th>Linear Discriminant Analysis</th>\n",
    "            <td>\n",
    "                <table border=\"1\" class=\"dataframe\">\n",
    "                    <thead>\n",
    "                        <tr style=\"text-align: right;\">\n",
    "                        <th></th>\n",
    "                        <th>positive</th>\n",
    "                        <th>negative</th>\n",
    "                        </tr>\n",
    "                    </thead>\n",
    "                    <tbody>\n",
    "                        <tr>\n",
    "                        <th>positive</th>\n",
    "                        <td>37</td>\n",
    "                        <td>15</td>\n",
    "                        </tr>\n",
    "                        <tr>\n",
    "                        <th>negative</th>\n",
    "                        <td>7</td>\n",
    "                        <td>45</td>\n",
    "                        </tr>\n",
    "                    </tbody>\n",
    "                </table>\n",
    "            </td>\n",
    "            <td>\n",
    "                <table border=\"1\" class=\"dataframe\">\n",
    "                    <thead>\n",
    "                        <tr style=\"text-align: right;\">\n",
    "                        <th></th>\n",
    "                        <th>precision</th>\n",
    "                        <th>recall</th>\n",
    "                        <th>f1-score</th>\n",
    "                        <th>support</th>\n",
    "                        </tr>\n",
    "                    </thead>\n",
    "                    <tbody>\n",
    "                        <tr>\n",
    "                        <th>0.0</th>\n",
    "                        <td>0.725000</td>\n",
    "                        <td>0.557692</td>\n",
    "                        <td>0.630435</td>\n",
    "                        <td>52.000000</td>\n",
    "                        </tr>\n",
    "                        <tr>\n",
    "                        <th>1.0</th>\n",
    "                        <td>0.640625</td>\n",
    "                        <td>0.788462</td>\n",
    "                        <td>0.706897</td>\n",
    "                        <td>52.000000</td>\n",
    "                        </tr>\n",
    "                        <tr>\n",
    "                        <th>accuracy</th>\n",
    "                        <td>0.673077</td>\n",
    "                        <td>0.673077</td>\n",
    "                        <td>0.673077</td>\n",
    "                        <td>0.673077</td>\n",
    "                        </tr>\n",
    "                        <tr>\n",
    "                        <th>macro avg</th>\n",
    "                        <td>0.682813</td>\n",
    "                        <td>0.673077</td>\n",
    "                        <td>0.668666</td>\n",
    "                        <td>104.000000</td>\n",
    "                        </tr>\n",
    "                        <tr>\n",
    "                        <th>weighted avg</th>\n",
    "                        <td>0.682812</td>\n",
    "                        <td>0.673077</td>\n",
    "                        <td>0.668666</td>\n",
    "                        <td>104.000000</td>\n",
    "                        </tr>\n",
    "                    </tbody>\n",
    "                </table>\n",
    "            </td>\n",
    "        </tr>\n",
    "        <tr>\n",
    "            <th>KNN</th>\n",
    "            <td>\n",
    "                <table border=\"1\" class=\"dataframe\">\n",
    "                <thead>\n",
    "                    <tr style=\"text-align: right;\">\n",
    "                    <th></th>\n",
    "                    <th>positive</th>\n",
    "                    <th>negative</th>\n",
    "                    </tr>\n",
    "                </thead>\n",
    "                <tbody>\n",
    "                    <tr>\n",
    "                    <th>positive</th>\n",
    "                    <td>23</td>\n",
    "                    <td>29</td>\n",
    "                    </tr>\n",
    "                    <tr>\n",
    "                    <th>negative</th>\n",
    "                    <td>20</td>\n",
    "                    <td>32</td>\n",
    "                    </tr>\n",
    "                </tbody>\n",
    "                </table>\n",
    "            </td>\n",
    "            <td>\n",
    "                <table border=\"1\" class=\"dataframe\">\n",
    "                    <thead>\n",
    "                        <tr style=\"text-align: right;\">\n",
    "                        <th></th>\n",
    "                        <th>precision</th>\n",
    "                        <th>recall</th>\n",
    "                        <th>f1-score</th>\n",
    "                        <th>support</th>\n",
    "                        </tr>\n",
    "                    </thead>\n",
    "                    <tbody>\n",
    "                        <tr>\n",
    "                        <th>0.0</th>\n",
    "                        <td>0.534884</td>\n",
    "                        <td>0.442308</td>\n",
    "                        <td>0.484211</td>\n",
    "                        <td>52.000000</td>\n",
    "                        </tr>\n",
    "                        <tr>\n",
    "                        <th>1.0</th>\n",
    "                        <td>0.524590</td>\n",
    "                        <td>0.615385</td>\n",
    "                        <td>0.566372</td>\n",
    "                        <td>52.000000</td>\n",
    "                        </tr>\n",
    "                        <tr>\n",
    "                        <th>accuracy</th>\n",
    "                        <td>0.528846</td>\n",
    "                        <td>0.528846</td>\n",
    "                        <td>0.528846</td>\n",
    "                        <td>0.528846</td>\n",
    "                        </tr>\n",
    "                        <tr>\n",
    "                        <th>macro avg</th>\n",
    "                        <td>0.529737</td>\n",
    "                        <td>0.528846</td>\n",
    "                        <td>0.525291</td>\n",
    "                        <td>104.000000</td>\n",
    "                        </tr>\n",
    "                        <tr>\n",
    "                        <th>weighted avg</th>\n",
    "                        <td>0.529737</td>\n",
    "                        <td>0.528846</td>\n",
    "                        <td>0.525291</td>\n",
    "                        <td>104.000000</td>\n",
    "                        </tr>\n",
    "                    </tbody>\n",
    "                </table>\n",
    "            </td>\n",
    "        </tr>\n",
    "        <tr>\n",
    "            <th>GaussianNB</th>\n",
    "            <td>\n",
    "                <table border=\"1\" class=\"dataframe\">\n",
    "                <thead>\n",
    "                    <tr style=\"text-align: right;\">\n",
    "                    <th></th>\n",
    "                    <th>positive</th>\n",
    "                    <th>negative</th>\n",
    "                    </tr>\n",
    "                </thead>\n",
    "                <tbody>\n",
    "                    <tr>\n",
    "                    <th>positive</th>\n",
    "                    <td>37</td>\n",
    "                    <td>15</td>\n",
    "                    </tr>\n",
    "                    <tr>\n",
    "                    <th>negative</th>\n",
    "                    <td>7</td>\n",
    "                    <td>45</td>\n",
    "                    </tr>\n",
    "                </tbody>\n",
    "                </table>\n",
    "            </td>\n",
    "            <td>\n",
    "                <table border=\"1\" class=\"dataframe\">\n",
    "                    <thead>\n",
    "                        <tr style=\"text-align: right;\">\n",
    "                        <th></th>\n",
    "                        <th>precision</th>\n",
    "                        <th>recall</th>\n",
    "                        <th>f1-score</th>\n",
    "                        <th>support</th>\n",
    "                        </tr>\n",
    "                    </thead>\n",
    "                    <tbody>\n",
    "                        <tr>\n",
    "                        <th>0.0</th>\n",
    "                        <td>0.840909</td>\n",
    "                        <td>0.711538</td>\n",
    "                        <td>0.770833</td>\n",
    "                        <td>52.000000</td>\n",
    "                        </tr>\n",
    "                        <tr>\n",
    "                        <th>1.0</th>\n",
    "                        <td>0.750000</td>\n",
    "                        <td>0.865385</td>\n",
    "                        <td>0.803571</td>\n",
    "                        <td>52.000000</td>\n",
    "                        </tr>\n",
    "                        <tr>\n",
    "                        <th>accuracy</th>\n",
    "                        <td>0.788462</td>\n",
    "                        <td>0.788462</td>\n",
    "                        <td>0.788462</td>\n",
    "                        <td>0.788462</td>\n",
    "                        </tr>\n",
    "                        <tr>\n",
    "                        <th>macro avg</th>\n",
    "                        <td>0.795455</td>\n",
    "                        <td>0.788462</td>\n",
    "                        <td>0.787202</td>\n",
    "                        <td>104.000000</td>\n",
    "                        </tr>\n",
    "                        <tr>\n",
    "                        <th>weighted avg</th>\n",
    "                        <td>0.795455</td>\n",
    "                        <td>0.788462</td>\n",
    "                        <td>0.787202</td>\n",
    "                        <td>104.000000</td>\n",
    "                        </tr>\n",
    "                    </tbody>\n",
    "                </table>\n",
    "            </td>\n",
    "        </tr>\n",
    "        <tr>\n",
    "            <th>Decision Tree Classifier</th>\n",
    "            <td>\n",
    "                <table border=\"1\" class=\"dataframe\">\n",
    "                    <thead>\n",
    "                        <tr style=\"text-align: right;\">\n",
    "                        <th></th>\n",
    "                        <th>positive</th>\n",
    "                        <th>negative</th>\n",
    "                        </tr>\n",
    "                    </thead>\n",
    "                    <tbody>\n",
    "                        <tr>\n",
    "                        <th>positive</th>\n",
    "                        <td>33</td>\n",
    "                        <td>19</td>\n",
    "                        </tr>\n",
    "                        <tr>\n",
    "                        <th>negative</th>\n",
    "                        <td>17</td>\n",
    "                        <td>35</td>\n",
    "                        </tr>\n",
    "                    </tbody>\n",
    "                </table>\n",
    "            </td>\n",
    "            <td>\n",
    "                <table border=\"1\" class=\"dataframe\">\n",
    "                    <thead>\n",
    "                        <tr style=\"text-align: right;\">\n",
    "                        <th></th>\n",
    "                        <th>precision</th>\n",
    "                        <th>recall</th>\n",
    "                        <th>f1-score</th>\n",
    "                        <th>support</th>\n",
    "                        </tr>\n",
    "                    </thead>\n",
    "                    <tbody>\n",
    "                        <tr>\n",
    "                        <th>0.0</th>\n",
    "                        <td>0.660000</td>\n",
    "                        <td>0.634615</td>\n",
    "                        <td>0.647059</td>\n",
    "                        <td>52.000000</td>\n",
    "                        </tr>\n",
    "                        <tr>\n",
    "                        <th>1.0</th>\n",
    "                        <td>0.648148</td>\n",
    "                        <td>0.673077</td>\n",
    "                        <td>0.660377</td>\n",
    "                        <td>52.000000</td>\n",
    "                        </tr>\n",
    "                        <tr>\n",
    "                        <th>accuracy</th>\n",
    "                        <td>0.653846</td>\n",
    "                        <td>0.653846</td>\n",
    "                        <td>0.653846</td>\n",
    "                        <td>0.653846</td>\n",
    "                        </tr>\n",
    "                        <tr>\n",
    "                        <th>macro avg</th>\n",
    "                        <td>0.654074</td>\n",
    "                        <td>0.653846</td>\n",
    "                        <td>0.653718</td>\n",
    "                        <td>104.000000</td>\n",
    "                        </tr>\n",
    "                        <tr>\n",
    "                        <th>weighted avg</th>\n",
    "                        <td>0.654074</td>\n",
    "                        <td>0.653846</td>\n",
    "                        <td>0.653718</td>\n",
    "                        <td>104.000000</td>\n",
    "                        </tr>\n",
    "                    </tbody>\n",
    "                </table>\n",
    "            </td>\n",
    "        </tr>     \n",
    "        <tr>\n",
    "            <th>Support Vector Machine</th>\n",
    "            <td>\n",
    "                <table border=\"1\" class=\"dataframe\">\n",
    "                    <thead>\n",
    "                        <tr style=\"text-align: right;\">\n",
    "                        <th></th>\n",
    "                        <th>positive</th>\n",
    "                        <th>negative</th>\n",
    "                        </tr>\n",
    "                    </thead>\n",
    "                    <tbody>\n",
    "                        <tr>\n",
    "                        <th>positive</th>\n",
    "                        <td>32</td>\n",
    "                        <td>20</td>\n",
    "                        </tr>\n",
    "                        <tr>\n",
    "                        <th>negative</th>\n",
    "                        <td>10</td>\n",
    "                        <td>42</td>\n",
    "                        </tr>\n",
    "                    </tbody>\n",
    "                </table>            \n",
    "            </td>\n",
    "            <td>\n",
    "                <table border=\"1\" class=\"dataframe\">\n",
    "                    <thead>\n",
    "                        <tr style=\"text-align: right;\">\n",
    "                        <th></th>\n",
    "                        <th>precision</th>\n",
    "                        <th>recall</th>\n",
    "                        <th>f1-score</th>\n",
    "                        <th>support</th>\n",
    "                        </tr>\n",
    "                    </thead>\n",
    "                    <tbody>\n",
    "                        <tr>\n",
    "                        <th>0.0</th>\n",
    "                        <td>0.761905</td>\n",
    "                        <td>0.615385</td>\n",
    "                        <td>0.680851</td>\n",
    "                        <td>52.000000</td>\n",
    "                        </tr>\n",
    "                        <tr>\n",
    "                        <th>1.0</th>\n",
    "                        <td>0.677419</td>\n",
    "                        <td>0.807692</td>\n",
    "                        <td>0.736842</td>\n",
    "                        <td>52.000000</td>\n",
    "                        </tr>\n",
    "                        <tr>\n",
    "                        <th>accuracy</th>\n",
    "                        <td>0.711538</td>\n",
    "                        <td>0.711538</td>\n",
    "                        <td>0.711538</td>\n",
    "                        <td>0.711538</td>\n",
    "                        </tr>\n",
    "                        <tr>\n",
    "                        <th>macro avg</th>\n",
    "                        <td>0.719662</td>\n",
    "                        <td>0.711538</td>\n",
    "                        <td>0.708847</td>\n",
    "                        <td>104.000000</td>\n",
    "                        </tr>\n",
    "                        <tr>\n",
    "                        <th>weighted avg</th>\n",
    "                        <td>0.719662</td>\n",
    "                        <td>0.711538</td>\n",
    "                        <td>0.708847</td>\n",
    "                        <td>104.000000</td>\n",
    "                        </tr>\n",
    "                    </tbody>\n",
    "                </table>\n",
    "            </td>\n",
    "        </tr>\n",
    "    </tbody>\n",
    "</table>"
   ]
  },
  {
   "cell_type": "markdown",
   "metadata": {},
   "source": []
  }
 ],
 "metadata": {
  "kernelspec": {
   "display_name": "Python 3.9.13",
   "language": "python",
   "name": "python3"
  },
  "language_info": {
   "codemirror_mode": {
    "name": "ipython",
    "version": 3
   },
   "file_extension": ".py",
   "mimetype": "text/x-python",
   "name": "python",
   "nbconvert_exporter": "python",
   "pygments_lexer": "ipython3",
   "version": "3.9.13"
  },
  "orig_nbformat": 4,
  "vscode": {
   "interpreter": {
    "hash": "aa11b94746fc3e31dd444f69cbc07362dc8f0f9fc8892b4755141b10c2d19365"
   }
  }
 },
 "nbformat": 4,
 "nbformat_minor": 2
}
