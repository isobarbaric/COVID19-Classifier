{
 "cells": [
  {
   "cell_type": "code",
   "execution_count": 1,
   "metadata": {},
   "outputs": [],
   "source": [
    "science_url = 'https://mediabiasfactcheck.com/pro-science/'\n",
    "conspiracy_url = 'https://mediabiasfactcheck.com/conspiracy/'"
   ]
  },
  {
   "cell_type": "code",
   "execution_count": 2,
   "metadata": {},
   "outputs": [],
   "source": [
    "from article_finder import ArticleFinder\n",
    "article_compiler = ArticleFinder()"
   ]
  },
  {
   "cell_type": "code",
   "execution_count": 15,
   "metadata": {},
   "outputs": [],
   "source": [
    "import json\n",
    "def write_to_storage(name: str, articles: list[str]):\n",
    "    filename = \"../Data/\" + name + \".json\" \n",
    "    print(filename)\n",
    "    with open(filename, 'w') as storage:\n",
    "        storage.write(json.dumps(articles, indent = 4))"
   ]
  },
  {
   "cell_type": "code",
   "execution_count": 11,
   "metadata": {},
   "outputs": [
    {
     "name": "stdout",
     "output_type": "stream",
     "text": [
      "total dysfunctional: 0 ; total attempts: 312\n"
     ]
    }
   ],
   "source": [
    "science_articles = article_compiler.find_articles(science_url)"
   ]
  },
  {
   "cell_type": "code",
   "execution_count": 17,
   "metadata": {},
   "outputs": [
    {
     "name": "stdout",
     "output_type": "stream",
     "text": [
      "../Data/science.json\n"
     ]
    }
   ],
   "source": [
    "write_to_storage('science', science_articles)"
   ]
  },
  {
   "cell_type": "code",
   "execution_count": 18,
   "metadata": {},
   "outputs": [
    {
     "name": "stdout",
     "output_type": "stream",
     "text": [
      "total dysfunctional: 0 ; total attempts: 489\n"
     ]
    }
   ],
   "source": [
    "conspiracy_articles = article_compiler.find_articles(conspiracy_url)"
   ]
  },
  {
   "cell_type": "code",
   "execution_count": 20,
   "metadata": {},
   "outputs": [
    {
     "name": "stdout",
     "output_type": "stream",
     "text": [
      "../Data/conspiracy.json\n"
     ]
    }
   ],
   "source": [
    "write_to_storage('conspiracy', conspiracy_articles)"
   ]
  },
  {
   "cell_type": "code",
   "execution_count": 19,
   "metadata": {},
   "outputs": [],
   "source": [
    "escape_seq = ''.join([chr(char) for char in range(1, 32)])"
   ]
  }
 ],
 "metadata": {
  "kernelspec": {
   "display_name": "Python 3.9.13 ('base')",
   "language": "python",
   "name": "python3"
  },
  "language_info": {
   "codemirror_mode": {
    "name": "ipython",
    "version": 3
   },
   "file_extension": ".py",
   "mimetype": "text/x-python",
   "name": "python",
   "nbconvert_exporter": "python",
   "pygments_lexer": "ipython3",
   "version": "3.9.13"
  },
  "orig_nbformat": 4,
  "vscode": {
   "interpreter": {
    "hash": "aa11b94746fc3e31dd444f69cbc07362dc8f0f9fc8892b4755141b10c2d19365"
   }
  }
 },
 "nbformat": 4,
 "nbformat_minor": 2
}
